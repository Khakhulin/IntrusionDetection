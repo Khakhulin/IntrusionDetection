{
 "cells": [
  {
   "cell_type": "markdown",
   "metadata": {},
   "source": [
    "## EDA\n",
    "### Dataset \n",
    "Data is taken from here: https://kdd.ics.uci.edu/databases/kddcup99/kddcup99.html."
   ]
  },
  {
   "cell_type": "markdown",
   "metadata": {},
   "source": [
    "Our target labels are:\n",
    "1. **Denial of Service (DoS)**: is an attack in which an adversary directed a deluge of traffic requests to a system in order to make the computing or memory resource too busy or too full to handle legitimate requests and in the process, denies legitimate users access to a machine.\n",
    "2. **Probing Attack (Probe)**: probing network of computers to gather information to be used to compromise its security controls.\n",
    "3. **User to Root Attack (U2R)**: a class of exploit in which the adversary starts out with access to a normal user account on the system (gained either by sniffing passwords, a dictionary attack, or social engineering) and is able to exploit some vulnerability to gain root access to the system.\n",
    "4. **Remote to Local Attack (R2L)**: occurs when an attacker who has the ability to send packets to a machine over a network but who does not have an account on that machine exploits some vulnerability to gain local access as a user of that machine."
   ]
  },
  {
   "cell_type": "code",
   "execution_count": 48,
   "metadata": {},
   "outputs": [],
   "source": [
    "import pandas as pd\n",
    "import numpy as np\n",
    "\n",
    "import seaborn as sns\n",
    "from sklearn.preprocessing import LabelEncoder\n",
    "import matplotlib.pyplot as plt\n",
    "import plotly.graph_objs as go\n",
    "\n",
    "%matplotlib inline\n",
    "\n",
    "corrected = \"./data/corrected\"\n",
    "kddcup_data_corrected = \"./data/kddcup.data.corrected\"\n",
    "\n",
    "kddcup_data_10_percent_corrected = \"./data/kddcup.data\"\n",
    "kddcup_testdata_10_percent = \"./data/kddcup.testdata.unlabeled_10_percent\"\n",
    "\n",
    "correspondence = \"./data/training_attack_types.txt\"\n",
    "header_files = \"./data/headers\""
   ]
  },
  {
   "cell_type": "code",
   "execution_count": 2,
   "metadata": {},
   "outputs": [],
   "source": [
    "dct = dict()\n",
    "with open(correspondence, \"r\") as f:\n",
    "    for line in f:\n",
    "        line = line.split()\n",
    "        if line != []:\n",
    "            dct[line[0]] = line[1][:-1]\n",
    "dct[\"normal\"] = \"normal\""
   ]
  },
  {
   "cell_type": "code",
   "execution_count": 3,
   "metadata": {},
   "outputs": [],
   "source": [
    "header_files = \"./data/headers\"\n",
    "with open(header_files, 'r') as f:\n",
    "    header = f.readline().strip().split(',')"
   ]
  },
  {
   "cell_type": "code",
   "execution_count": 4,
   "metadata": {},
   "outputs": [
    {
     "name": "stdout",
     "output_type": "stream",
     "text": [
      "['duration', 'protocol_type', 'service', 'flag', 'src_bytes', 'dst_bytes', 'land', 'wrong_fragment', 'urgent', 'hot', 'num_failed_logins', 'logged_in', 'num_compromised', 'root_shell', 'su_attempted', 'num_root', 'num_file_creations', 'num_shells', 'num_access_files', 'num_outbound_cmds', 'is_hot_login', 'is_guest_login', 'count', 'srv_count', 'serror_rate', 'srv_serror_rate', 'rerror_rate', 'srv_rerror_rate', 'same_srv_rate', 'diff_srv_rate', 'srv_diff_host_rate', 'dst_host_count', 'dst_host_srv_count', 'dst_host_same_srv_rate', 'dst_host_diff_srv_rate', 'dst_host_same_src_port_rate', 'dst_host_srv_diff_host_rate', 'dst_host_serror_rate', 'dst_host_srv_serror_rate', 'dst_host_rerror_rate', 'dst_host_srv_rerror_rate', 'classes']\n"
     ]
    }
   ],
   "source": [
    "print(header)"
   ]
  },
  {
   "cell_type": "code",
   "execution_count": 5,
   "metadata": {},
   "outputs": [
    {
     "data": {
      "text/html": [
       "<div>\n",
       "<style>\n",
       "    .dataframe thead tr:only-child th {\n",
       "        text-align: right;\n",
       "    }\n",
       "\n",
       "    .dataframe thead th {\n",
       "        text-align: left;\n",
       "    }\n",
       "\n",
       "    .dataframe tbody tr th {\n",
       "        vertical-align: top;\n",
       "    }\n",
       "</style>\n",
       "<table border=\"1\" class=\"dataframe\">\n",
       "  <thead>\n",
       "    <tr style=\"text-align: right;\">\n",
       "      <th></th>\n",
       "      <th>duration</th>\n",
       "      <th>protocol_type</th>\n",
       "      <th>service</th>\n",
       "      <th>flag</th>\n",
       "      <th>src_bytes</th>\n",
       "      <th>dst_bytes</th>\n",
       "      <th>land</th>\n",
       "      <th>wrong_fragment</th>\n",
       "      <th>urgent</th>\n",
       "      <th>hot</th>\n",
       "      <th>...</th>\n",
       "      <th>dst_host_srv_count</th>\n",
       "      <th>dst_host_same_srv_rate</th>\n",
       "      <th>dst_host_diff_srv_rate</th>\n",
       "      <th>dst_host_same_src_port_rate</th>\n",
       "      <th>dst_host_srv_diff_host_rate</th>\n",
       "      <th>dst_host_serror_rate</th>\n",
       "      <th>dst_host_srv_serror_rate</th>\n",
       "      <th>dst_host_rerror_rate</th>\n",
       "      <th>dst_host_srv_rerror_rate</th>\n",
       "      <th>classes</th>\n",
       "    </tr>\n",
       "  </thead>\n",
       "  <tbody>\n",
       "    <tr>\n",
       "      <th>0</th>\n",
       "      <td>0</td>\n",
       "      <td>tcp</td>\n",
       "      <td>http</td>\n",
       "      <td>SF</td>\n",
       "      <td>215</td>\n",
       "      <td>45076</td>\n",
       "      <td>0</td>\n",
       "      <td>0</td>\n",
       "      <td>0</td>\n",
       "      <td>0</td>\n",
       "      <td>...</td>\n",
       "      <td>0</td>\n",
       "      <td>0.0</td>\n",
       "      <td>0.0</td>\n",
       "      <td>0.00</td>\n",
       "      <td>0.0</td>\n",
       "      <td>0.0</td>\n",
       "      <td>0.0</td>\n",
       "      <td>0.0</td>\n",
       "      <td>0.0</td>\n",
       "      <td>normal.</td>\n",
       "    </tr>\n",
       "    <tr>\n",
       "      <th>1</th>\n",
       "      <td>0</td>\n",
       "      <td>tcp</td>\n",
       "      <td>http</td>\n",
       "      <td>SF</td>\n",
       "      <td>162</td>\n",
       "      <td>4528</td>\n",
       "      <td>0</td>\n",
       "      <td>0</td>\n",
       "      <td>0</td>\n",
       "      <td>0</td>\n",
       "      <td>...</td>\n",
       "      <td>1</td>\n",
       "      <td>1.0</td>\n",
       "      <td>0.0</td>\n",
       "      <td>1.00</td>\n",
       "      <td>0.0</td>\n",
       "      <td>0.0</td>\n",
       "      <td>0.0</td>\n",
       "      <td>0.0</td>\n",
       "      <td>0.0</td>\n",
       "      <td>normal.</td>\n",
       "    </tr>\n",
       "    <tr>\n",
       "      <th>2</th>\n",
       "      <td>0</td>\n",
       "      <td>tcp</td>\n",
       "      <td>http</td>\n",
       "      <td>SF</td>\n",
       "      <td>236</td>\n",
       "      <td>1228</td>\n",
       "      <td>0</td>\n",
       "      <td>0</td>\n",
       "      <td>0</td>\n",
       "      <td>0</td>\n",
       "      <td>...</td>\n",
       "      <td>2</td>\n",
       "      <td>1.0</td>\n",
       "      <td>0.0</td>\n",
       "      <td>0.50</td>\n",
       "      <td>0.0</td>\n",
       "      <td>0.0</td>\n",
       "      <td>0.0</td>\n",
       "      <td>0.0</td>\n",
       "      <td>0.0</td>\n",
       "      <td>normal.</td>\n",
       "    </tr>\n",
       "    <tr>\n",
       "      <th>3</th>\n",
       "      <td>0</td>\n",
       "      <td>tcp</td>\n",
       "      <td>http</td>\n",
       "      <td>SF</td>\n",
       "      <td>233</td>\n",
       "      <td>2032</td>\n",
       "      <td>0</td>\n",
       "      <td>0</td>\n",
       "      <td>0</td>\n",
       "      <td>0</td>\n",
       "      <td>...</td>\n",
       "      <td>3</td>\n",
       "      <td>1.0</td>\n",
       "      <td>0.0</td>\n",
       "      <td>0.33</td>\n",
       "      <td>0.0</td>\n",
       "      <td>0.0</td>\n",
       "      <td>0.0</td>\n",
       "      <td>0.0</td>\n",
       "      <td>0.0</td>\n",
       "      <td>normal.</td>\n",
       "    </tr>\n",
       "    <tr>\n",
       "      <th>4</th>\n",
       "      <td>0</td>\n",
       "      <td>tcp</td>\n",
       "      <td>http</td>\n",
       "      <td>SF</td>\n",
       "      <td>239</td>\n",
       "      <td>486</td>\n",
       "      <td>0</td>\n",
       "      <td>0</td>\n",
       "      <td>0</td>\n",
       "      <td>0</td>\n",
       "      <td>...</td>\n",
       "      <td>4</td>\n",
       "      <td>1.0</td>\n",
       "      <td>0.0</td>\n",
       "      <td>0.25</td>\n",
       "      <td>0.0</td>\n",
       "      <td>0.0</td>\n",
       "      <td>0.0</td>\n",
       "      <td>0.0</td>\n",
       "      <td>0.0</td>\n",
       "      <td>normal.</td>\n",
       "    </tr>\n",
       "  </tbody>\n",
       "</table>\n",
       "<p>5 rows × 42 columns</p>\n",
       "</div>"
      ],
      "text/plain": [
       "   duration protocol_type service flag  src_bytes  dst_bytes  land  \\\n",
       "0         0           tcp    http   SF        215      45076     0   \n",
       "1         0           tcp    http   SF        162       4528     0   \n",
       "2         0           tcp    http   SF        236       1228     0   \n",
       "3         0           tcp    http   SF        233       2032     0   \n",
       "4         0           tcp    http   SF        239        486     0   \n",
       "\n",
       "   wrong_fragment  urgent  hot   ...     dst_host_srv_count  \\\n",
       "0               0       0    0   ...                      0   \n",
       "1               0       0    0   ...                      1   \n",
       "2               0       0    0   ...                      2   \n",
       "3               0       0    0   ...                      3   \n",
       "4               0       0    0   ...                      4   \n",
       "\n",
       "   dst_host_same_srv_rate  dst_host_diff_srv_rate  \\\n",
       "0                     0.0                     0.0   \n",
       "1                     1.0                     0.0   \n",
       "2                     1.0                     0.0   \n",
       "3                     1.0                     0.0   \n",
       "4                     1.0                     0.0   \n",
       "\n",
       "   dst_host_same_src_port_rate  dst_host_srv_diff_host_rate  \\\n",
       "0                         0.00                          0.0   \n",
       "1                         1.00                          0.0   \n",
       "2                         0.50                          0.0   \n",
       "3                         0.33                          0.0   \n",
       "4                         0.25                          0.0   \n",
       "\n",
       "   dst_host_serror_rate  dst_host_srv_serror_rate  dst_host_rerror_rate  \\\n",
       "0                   0.0                       0.0                   0.0   \n",
       "1                   0.0                       0.0                   0.0   \n",
       "2                   0.0                       0.0                   0.0   \n",
       "3                   0.0                       0.0                   0.0   \n",
       "4                   0.0                       0.0                   0.0   \n",
       "\n",
       "   dst_host_srv_rerror_rate  classes  \n",
       "0                       0.0  normal.  \n",
       "1                       0.0  normal.  \n",
       "2                       0.0  normal.  \n",
       "3                       0.0  normal.  \n",
       "4                       0.0  normal.  \n",
       "\n",
       "[5 rows x 42 columns]"
      ]
     },
     "execution_count": 5,
     "metadata": {},
     "output_type": "execute_result"
    }
   ],
   "source": [
    "df = pd.read_csv(kddcup_data_10_percent_corrected, header=None)\n",
    "df.columns = header\n",
    "df.head()"
   ]
  },
  {
   "cell_type": "code",
   "execution_count": 6,
   "metadata": {},
   "outputs": [
    {
     "data": {
      "text/plain": [
       "smurf.              2807886\n",
       "neptune.            1072017\n",
       "normal.              972781\n",
       "satan.                15892\n",
       "ipsweep.              12481\n",
       "portsweep.            10413\n",
       "nmap.                  2316\n",
       "back.                  2203\n",
       "warezclient.           1020\n",
       "teardrop.               979\n",
       "pod.                    264\n",
       "guess_passwd.            53\n",
       "buffer_overflow.         30\n",
       "land.                    21\n",
       "warezmaster.             20\n",
       "imap.                    12\n",
       "rootkit.                 10\n",
       "loadmodule.               9\n",
       "ftp_write.                8\n",
       "multihop.                 7\n",
       "phf.                      4\n",
       "perl.                     3\n",
       "spy.                      2\n",
       "Name: classes, dtype: int64"
      ]
     },
     "execution_count": 6,
     "metadata": {},
     "output_type": "execute_result"
    }
   ],
   "source": [
    "df.classes.value_counts()"
   ]
  },
  {
   "cell_type": "code",
   "execution_count": 7,
   "metadata": {},
   "outputs": [],
   "source": [
    "test_data = pd.read_csv(kddcup_testdata_10_percent, header=None)\n",
    "test_data.columns = header[:-1]"
   ]
  },
  {
   "cell_type": "code",
   "execution_count": 8,
   "metadata": {},
   "outputs": [],
   "source": [
    "def labels_map(label):\n",
    "    \"\"\"\n",
    "     0 - normal\n",
    "     1 - probe -  surveillance and other probing, e.g., port scanning.\n",
    "     2 - dos - denial-of-service, e.g. syn flood;\n",
    "     3 - u2r - unauthorized access to local superuser (root) privileges, e.g., various __buffer overflow__ attacks;\n",
    "     4 - R2L - unauthorized access from a remote machine, e.g. guessing password;\n",
    "    \"\"\"\n",
    "    label = str(label).split('.')[0]\n",
    "    if label == 'normal':\n",
    "        return 0\n",
    "    if label in ['ipsweep', 'mscan', 'nmap', 'portsweep', 'saint', 'satan']: \n",
    "        return 1\n",
    "    if label in ['apache2', 'back', 'land', 'mailbomb', 'neptune', 'pod', 'processtable', 'smurf', 'teardrop', 'udpstorm']:\n",
    "        return 2\n",
    "    if label in ['buffer_overflow', 'httptunnel', 'loadmodule', 'perl', 'ps', 'rootkit', 'sqlattack', 'xterm']: \n",
    "        return 3\n",
    "    if label in ['ftp_write', 'guess_passwd', 'imap', 'multihop', 'named', 'phf', 'sendmail', 'snmpgetattack',\n",
    "                 'snmpguess', 'spy', 'warezclient', 'warezmaster', 'worm', 'xlock', 'xsnoop']: \n",
    "        return 4\n",
    "df['classes'] = df.classes.apply(labels_map)\n",
    "test_data.classes = test_data.apply(labels_map)"
   ]
  },
  {
   "cell_type": "code",
   "execution_count": 9,
   "metadata": {},
   "outputs": [
    {
     "data": {
      "text/plain": [
       "2    3883370\n",
       "0     972781\n",
       "1      41102\n",
       "4       1126\n",
       "3         52\n",
       "Name: classes, dtype: int64"
      ]
     },
     "execution_count": 9,
     "metadata": {},
     "output_type": "execute_result"
    }
   ],
   "source": [
    "df.classes.value_counts()"
   ]
  },
  {
   "cell_type": "markdown",
   "metadata": {},
   "source": [
    "**Percentage distribution of class labels in dataset**"
   ]
  },
  {
   "cell_type": "code",
   "execution_count": 67,
   "metadata": {},
   "outputs": [
    {
     "data": {
      "text/plain": [
       "classes\n",
       "0    19.859032\n",
       "1     0.839085\n",
       "2    79.277834\n",
       "3     0.001062\n",
       "4     0.022987\n",
       "dtype: float64"
      ]
     },
     "execution_count": 67,
     "metadata": {},
     "output_type": "execute_result"
    }
   ],
   "source": [
    "rows_count = df.shape[0]\n",
    "df.groupby('classes').size() * 100/rows_count"
   ]
  },
  {
   "cell_type": "code",
   "execution_count": 35,
   "metadata": {},
   "outputs": [
    {
     "data": {
      "text/plain": [
       "protocol_type  classes\n",
       "icmp           2          2808150\n",
       "               0            12763\n",
       "               1            12632\n",
       "tcp            2          1074241\n",
       "               0           768670\n",
       "               1            26512\n",
       "               4             1126\n",
       "               3               49\n",
       "udp            0           191348\n",
       "               1             1958\n",
       "               2              979\n",
       "               3                3\n",
       "Name: classes, dtype: int64"
      ]
     },
     "execution_count": 35,
     "metadata": {},
     "output_type": "execute_result"
    }
   ],
   "source": [
    "df.groupby(['protocol_type'])['classes'].value_counts()"
   ]
  },
  {
   "cell_type": "code",
   "execution_count": 37,
   "metadata": {},
   "outputs": [
    {
     "data": {
      "text/plain": [
       "classes  service  \n",
       "0        http         619046\n",
       "         smtp          95371\n",
       "         private       73853\n",
       "         domain_u      57773\n",
       "         other         56520\n",
       "         ftp_data      38093\n",
       "         urp_i          5375\n",
       "         finger         5017\n",
       "         ntp_u          3833\n",
       "         ftp            3821\n",
       "         eco_i          3768\n",
       "         ecr_i          3456\n",
       "         auth           2328\n",
       "         telnet         2227\n",
       "         pop_3           922\n",
       "         IRC             520\n",
       "         time            509\n",
       "         urh_i           148\n",
       "         X11             129\n",
       "         domain           38\n",
       "         red_i             9\n",
       "         ssh               7\n",
       "         tim_i             7\n",
       "         shell             5\n",
       "         imap4             3\n",
       "         tftp_u            3\n",
       "1        other         15103\n",
       "         eco_i         12570\n",
       "         private       12279\n",
       "         ecr_i            59\n",
       "                       ...  \n",
       "2        auth           1037\n",
       "         ctf            1037\n",
       "         daytime        1037\n",
       "         hostnames      1037\n",
       "         http_443       1036\n",
       "         name           1036\n",
       "         bgp            1035\n",
       "         exec           1035\n",
       "         printer        1034\n",
       "         shell          1034\n",
       "         ldap           1033\n",
       "         efs            1032\n",
       "         login          1032\n",
       "         kshell         1030\n",
       "         nnsp           1030\n",
       "         uucp           1027\n",
       "         other          1022\n",
       "         courier        1011\n",
       "         tim_i             5\n",
       "3        telnet           34\n",
       "         ftp_data         12\n",
       "         ftp               3\n",
       "         other             3\n",
       "4        ftp_data        733\n",
       "         ftp             313\n",
       "         telnet           57\n",
       "         imap4            12\n",
       "         other             5\n",
       "         http              4\n",
       "         login             2\n",
       "Name: service, Length: 158, dtype: int64"
      ]
     },
     "execution_count": 37,
     "metadata": {},
     "output_type": "execute_result"
    }
   ],
   "source": [
    "df.groupby(['classes'])['service'].value_counts()"
   ]
  },
  {
   "cell_type": "code",
   "execution_count": 43,
   "metadata": {},
   "outputs": [],
   "source": [
    "X = df[df.columns[:-1]]"
   ]
  },
  {
   "cell_type": "code",
   "execution_count": 45,
   "metadata": {},
   "outputs": [
    {
     "name": "stdout",
     "output_type": "stream",
     "text": [
      "The number of duplicates is 3823457\n",
      "\n",
      "The total numer of rows is 4898431\n"
     ]
    }
   ],
   "source": [
    "print('The number of duplicates is {}\\n'.format(X.duplicated().sum()))\n",
    "print('The total numer of rows is {}'.format(X.shape[0]))"
   ]
  },
  {
   "cell_type": "code",
   "execution_count": 46,
   "metadata": {},
   "outputs": [
    {
     "name": "stdout",
     "output_type": "stream",
     "text": [
      "The number of duplicates in test is 233813\n",
      "\n",
      "The total numer of rows in test is 311029\n"
     ]
    }
   ],
   "source": [
    "print('The number of duplicates in test is {}\\n'.format(test_data.duplicated().sum()))\n",
    "print('The total numer of rows in test is {}'.format(test_data.shape[0]))"
   ]
  },
  {
   "cell_type": "markdown",
   "metadata": {},
   "source": []
  },
  {
   "cell_type": "code",
   "execution_count": 49,
   "metadata": {},
   "outputs": [],
   "source": [
    "catigorial_features = ['protocol_type','service','flag','land','logged_in','is_host_login','is_guest_login']\n",
    "x_categor = X.loc[:,catigorial_features]"
   ]
  },
  {
   "cell_type": "code",
   "execution_count": 57,
   "metadata": {},
   "outputs": [
    {
     "data": {
      "text/plain": [
       "<matplotlib.axes._subplots.AxesSubplot at 0x124e92c88>"
      ]
     },
     "execution_count": 57,
     "metadata": {},
     "output_type": "execute_result"
    },
    {
     "data": {
      "image/png": "[encoded data removed]",
      "text/plain": [
       "<matplotlib.figure.Figure at 0x124e88dd8>"
      ]
     },
     "metadata": {},
     "output_type": "display_data"
    }
   ],
   "source": [
    "sns.countplot(x_categor.flag)"
   ]
  },
  {
   "cell_type": "markdown",
   "metadata": {},
   "source": [
    "Can someone attack a guest profile?"
   ]
  },
  {
   "cell_type": "code",
   "execution_count": 64,
   "metadata": {},
   "outputs": [
    {
     "data": {
      "text/plain": [
       "<matplotlib.axes._subplots.AxesSubplot at 0x13685d160>"
      ]
     },
     "execution_count": 64,
     "metadata": {},
     "output_type": "execute_result"
    },
    {
     "data": {
      "image/png": "[encoded data removed]",
      "text/plain": [
       "<matplotlib.figure.Figure at 0x136590390>"
      ]
     },
     "metadata": {},
     "output_type": "display_data"
    }
   ],
   "source": [
    "sns.countplot(df[(df['is_guest_login'] == 1)].classes)"
   ]
  },
  {
   "cell_type": "code",
   "execution_count": null,
   "metadata": {},
   "outputs": [],
   "source": []
  },
  {
   "cell_type": "code",
   "execution_count": 58,
   "metadata": {},
   "outputs": [
    {
     "data": {
      "text/plain": [
       "<matplotlib.axes._subplots.AxesSubplot at 0x124f91f60>"
      ]
     },
     "execution_count": 58,
     "metadata": {},
     "output_type": "execute_result"
    },
    {
     "data": {
      "image/png": "[encoded data removed]",
      "text/plain": [
       "<matplotlib.figure.Figure at 0x1366b41d0>"
      ]
     },
     "metadata": {},
     "output_type": "display_data"
    }
   ],
   "source": [
    "sns.countplot(x_categor['is_guest_login'])"
   ]
  },
  {
   "cell_type": "markdown",
   "metadata": {},
   "source": [
    "Is everybody logged "
   ]
  },
  {
   "cell_type": "code",
   "execution_count": 59,
   "metadata": {},
   "outputs": [
    {
     "data": {
      "text/plain": [
       "<matplotlib.axes._subplots.AxesSubplot at 0x11c46a7b8>"
      ]
     },
     "execution_count": 59,
     "metadata": {},
     "output_type": "execute_result"
    },
    {
     "data": {
      "image/png": "[encoded data removed]",
      "text/plain": [
       "<matplotlib.figure.Figure at 0x124e8afd0>"
      ]
     },
     "metadata": {},
     "output_type": "display_data"
    }
   ],
   "source": [
    "sns.countplot(x_categor['logged_in'])"
   ]
  },
  {
   "cell_type": "markdown",
   "metadata": {},
   "source": [
    "In connection with a large number of duplicate data, we delete them.\n",
    "Remove duplicate rows"
   ]
  },
  {
   "cell_type": "code",
   "execution_count": 41,
   "metadata": {},
   "outputs": [
    {
     "name": "stdout",
     "output_type": "stream",
     "text": [
      "rows and columns: (4898431, 38)\n",
      "rows and columns after removing duplicates:(1073987, 38)\n"
     ]
    }
   ],
   "source": [
    "print('rows and columns: ' + str(df.shape))\n",
    "df = df.drop_duplicates()\n",
    "print('rows and columns after removing duplicates:' + str(df.shape))"
   ]
  },
  {
   "cell_type": "markdown",
   "metadata": {},
   "source": [
    "The numbers of none values"
   ]
  },
  {
   "cell_type": "code",
   "execution_count": 69,
   "metadata": {},
   "outputs": [
    {
     "data": {
      "text/plain": [
       "0"
      ]
     },
     "execution_count": 69,
     "metadata": {},
     "output_type": "execute_result"
    }
   ],
   "source": [
    "len(df[df.isnull().any(axis=1)])"
   ]
  },
  {
   "cell_type": "markdown",
   "metadata": {},
   "source": [
    "Let's try to find unnecessery columns. Features which will not impact on our prediction."
   ]
  },
  {
   "cell_type": "code",
   "execution_count": 77,
   "metadata": {},
   "outputs": [
    {
     "name": "stdout",
     "output_type": "stream",
     "text": [
      "num_outbound_cmds\n"
     ]
    }
   ],
   "source": [
    "for col in np.array(df.columns):\n",
    "    if len(df[col].unique()) == 1:\n",
    "        print(col)"
   ]
  },
  {
   "cell_type": "code",
   "execution_count": null,
   "metadata": {},
   "outputs": [],
   "source": [
    "df.num_outbound_cmds.unique()"
   ]
  },
  {
   "cell_type": "markdown",
   "metadata": {},
   "source": [
    "This feature has the same value in all samples."
   ]
  },
  {
   "cell_type": "code",
   "execution_count": 10,
   "metadata": {},
   "outputs": [],
   "source": [
    "df.drop('num_outbound_cmds', axis=1,inplace=True)"
   ]
  },
  {
   "cell_type": "markdown",
   "metadata": {},
   "source": [
    "### Let's see to the numerical features"
   ]
  },
  {
   "cell_type": "code",
   "execution_count": 84,
   "metadata": {},
   "outputs": [],
   "source": [
    "cols=list(df.axes[1].values)\n",
    "x_numerical=df.loc[:,list(set(cols).difference(set(categorical)))]"
   ]
  },
  {
   "cell_type": "code",
   "execution_count": 85,
   "metadata": {},
   "outputs": [
    {
     "data": {
      "text/html": [
       "<div>\n",
       "<style>\n",
       "    .dataframe thead tr:only-child th {\n",
       "        text-align: right;\n",
       "    }\n",
       "\n",
       "    .dataframe thead th {\n",
       "        text-align: left;\n",
       "    }\n",
       "\n",
       "    .dataframe tbody tr th {\n",
       "        vertical-align: top;\n",
       "    }\n",
       "</style>\n",
       "<table border=\"1\" class=\"dataframe\">\n",
       "  <thead>\n",
       "    <tr style=\"text-align: right;\">\n",
       "      <th></th>\n",
       "      <th>srv_diff_host_rate</th>\n",
       "      <th>dst_host_srv_serror_rate</th>\n",
       "      <th>num_shells</th>\n",
       "      <th>same_srv_rate</th>\n",
       "      <th>land</th>\n",
       "      <th>logged_in</th>\n",
       "      <th>srv_serror_rate</th>\n",
       "      <th>num_root</th>\n",
       "      <th>diff_srv_rate</th>\n",
       "      <th>dst_host_srv_diff_host_rate</th>\n",
       "      <th>...</th>\n",
       "      <th>wrong_fragment</th>\n",
       "      <th>dst_host_count</th>\n",
       "      <th>num_access_files</th>\n",
       "      <th>serror_rate</th>\n",
       "      <th>is_hot_login</th>\n",
       "      <th>dst_host_rerror_rate</th>\n",
       "      <th>srv_rerror_rate</th>\n",
       "      <th>hot</th>\n",
       "      <th>dst_host_same_src_port_rate</th>\n",
       "      <th>dst_host_srv_count</th>\n",
       "    </tr>\n",
       "  </thead>\n",
       "  <tbody>\n",
       "    <tr>\n",
       "      <th>count</th>\n",
       "      <td>1.074983e+06</td>\n",
       "      <td>1.074983e+06</td>\n",
       "      <td>1.074983e+06</td>\n",
       "      <td>1.074983e+06</td>\n",
       "      <td>1.074983e+06</td>\n",
       "      <td>1.074983e+06</td>\n",
       "      <td>1.074983e+06</td>\n",
       "      <td>1.074983e+06</td>\n",
       "      <td>1.074983e+06</td>\n",
       "      <td>1.074983e+06</td>\n",
       "      <td>...</td>\n",
       "      <td>1.074983e+06</td>\n",
       "      <td>1.074983e+06</td>\n",
       "      <td>1.074983e+06</td>\n",
       "      <td>1.074983e+06</td>\n",
       "      <td>1.074983e+06</td>\n",
       "      <td>1.074983e+06</td>\n",
       "      <td>1.074983e+06</td>\n",
       "      <td>1.074983e+06</td>\n",
       "      <td>1.074983e+06</td>\n",
       "      <td>1.074983e+06</td>\n",
       "    </tr>\n",
       "    <tr>\n",
       "      <th>mean</th>\n",
       "      <td>1.179052e-01</td>\n",
       "      <td>1.901312e-01</td>\n",
       "      <td>3.386100e-04</td>\n",
       "      <td>7.785645e-01</td>\n",
       "      <td>2.418643e-05</td>\n",
       "      <td>6.301216e-01</td>\n",
       "      <td>1.908086e-01</td>\n",
       "      <td>5.875349e-02</td>\n",
       "      <td>3.159977e-02</td>\n",
       "      <td>2.173620e-02</td>\n",
       "      <td>...</td>\n",
       "      <td>2.735857e-03</td>\n",
       "      <td>1.619737e+02</td>\n",
       "      <td>4.320068e-03</td>\n",
       "      <td>1.901184e-01</td>\n",
       "      <td>1.860495e-06</td>\n",
       "      <td>7.954166e-02</td>\n",
       "      <td>7.793108e-02</td>\n",
       "      <td>5.427993e-02</td>\n",
       "      <td>9.335003e-02</td>\n",
       "      <td>1.592105e+02</td>\n",
       "    </tr>\n",
       "    <tr>\n",
       "      <th>std</th>\n",
       "      <td>2.655133e-01</td>\n",
       "      <td>3.913491e-01</td>\n",
       "      <td>1.864935e-02</td>\n",
       "      <td>3.917211e-01</td>\n",
       "      <td>4.917913e-03</td>\n",
       "      <td>4.827718e-01</td>\n",
       "      <td>3.916618e-01</td>\n",
       "      <td>8.406188e+00</td>\n",
       "      <td>1.169091e-01</td>\n",
       "      <td>5.636329e-02</td>\n",
       "      <td>...</td>\n",
       "      <td>8.836023e-02</td>\n",
       "      <td>1.022639e+02</td>\n",
       "      <td>7.347858e-02</td>\n",
       "      <td>3.909790e-01</td>\n",
       "      <td>1.363999e-03</td>\n",
       "      <td>2.622005e-01</td>\n",
       "      <td>2.659115e-01</td>\n",
       "      <td>9.974659e-01</td>\n",
       "      <td>2.298151e-01</td>\n",
       "      <td>1.098837e+02</td>\n",
       "    </tr>\n",
       "    <tr>\n",
       "      <th>min</th>\n",
       "      <td>0.000000e+00</td>\n",
       "      <td>0.000000e+00</td>\n",
       "      <td>0.000000e+00</td>\n",
       "      <td>0.000000e+00</td>\n",
       "      <td>0.000000e+00</td>\n",
       "      <td>0.000000e+00</td>\n",
       "      <td>0.000000e+00</td>\n",
       "      <td>0.000000e+00</td>\n",
       "      <td>0.000000e+00</td>\n",
       "      <td>0.000000e+00</td>\n",
       "      <td>...</td>\n",
       "      <td>0.000000e+00</td>\n",
       "      <td>0.000000e+00</td>\n",
       "      <td>0.000000e+00</td>\n",
       "      <td>0.000000e+00</td>\n",
       "      <td>0.000000e+00</td>\n",
       "      <td>0.000000e+00</td>\n",
       "      <td>0.000000e+00</td>\n",
       "      <td>0.000000e+00</td>\n",
       "      <td>0.000000e+00</td>\n",
       "      <td>0.000000e+00</td>\n",
       "    </tr>\n",
       "    <tr>\n",
       "      <th>25%</th>\n",
       "      <td>0.000000e+00</td>\n",
       "      <td>0.000000e+00</td>\n",
       "      <td>0.000000e+00</td>\n",
       "      <td>1.000000e+00</td>\n",
       "      <td>0.000000e+00</td>\n",
       "      <td>0.000000e+00</td>\n",
       "      <td>0.000000e+00</td>\n",
       "      <td>0.000000e+00</td>\n",
       "      <td>0.000000e+00</td>\n",
       "      <td>0.000000e+00</td>\n",
       "      <td>...</td>\n",
       "      <td>0.000000e+00</td>\n",
       "      <td>5.000000e+01</td>\n",
       "      <td>0.000000e+00</td>\n",
       "      <td>0.000000e+00</td>\n",
       "      <td>0.000000e+00</td>\n",
       "      <td>0.000000e+00</td>\n",
       "      <td>0.000000e+00</td>\n",
       "      <td>0.000000e+00</td>\n",
       "      <td>0.000000e+00</td>\n",
       "      <td>1.800000e+01</td>\n",
       "    </tr>\n",
       "    <tr>\n",
       "      <th>50%</th>\n",
       "      <td>0.000000e+00</td>\n",
       "      <td>0.000000e+00</td>\n",
       "      <td>0.000000e+00</td>\n",
       "      <td>1.000000e+00</td>\n",
       "      <td>0.000000e+00</td>\n",
       "      <td>1.000000e+00</td>\n",
       "      <td>0.000000e+00</td>\n",
       "      <td>0.000000e+00</td>\n",
       "      <td>0.000000e+00</td>\n",
       "      <td>0.000000e+00</td>\n",
       "      <td>...</td>\n",
       "      <td>0.000000e+00</td>\n",
       "      <td>2.240000e+02</td>\n",
       "      <td>0.000000e+00</td>\n",
       "      <td>0.000000e+00</td>\n",
       "      <td>0.000000e+00</td>\n",
       "      <td>0.000000e+00</td>\n",
       "      <td>0.000000e+00</td>\n",
       "      <td>0.000000e+00</td>\n",
       "      <td>1.000000e-02</td>\n",
       "      <td>2.480000e+02</td>\n",
       "    </tr>\n",
       "    <tr>\n",
       "      <th>75%</th>\n",
       "      <td>9.000000e-02</td>\n",
       "      <td>0.000000e+00</td>\n",
       "      <td>0.000000e+00</td>\n",
       "      <td>1.000000e+00</td>\n",
       "      <td>0.000000e+00</td>\n",
       "      <td>1.000000e+00</td>\n",
       "      <td>0.000000e+00</td>\n",
       "      <td>0.000000e+00</td>\n",
       "      <td>1.000000e-02</td>\n",
       "      <td>2.000000e-02</td>\n",
       "      <td>...</td>\n",
       "      <td>0.000000e+00</td>\n",
       "      <td>2.550000e+02</td>\n",
       "      <td>0.000000e+00</td>\n",
       "      <td>0.000000e+00</td>\n",
       "      <td>0.000000e+00</td>\n",
       "      <td>0.000000e+00</td>\n",
       "      <td>0.000000e+00</td>\n",
       "      <td>0.000000e+00</td>\n",
       "      <td>4.000000e-02</td>\n",
       "      <td>2.550000e+02</td>\n",
       "    </tr>\n",
       "    <tr>\n",
       "      <th>max</th>\n",
       "      <td>1.000000e+00</td>\n",
       "      <td>1.000000e+00</td>\n",
       "      <td>2.000000e+00</td>\n",
       "      <td>1.000000e+00</td>\n",
       "      <td>1.000000e+00</td>\n",
       "      <td>1.000000e+00</td>\n",
       "      <td>1.000000e+00</td>\n",
       "      <td>7.468000e+03</td>\n",
       "      <td>1.000000e+00</td>\n",
       "      <td>1.000000e+00</td>\n",
       "      <td>...</td>\n",
       "      <td>3.000000e+00</td>\n",
       "      <td>2.550000e+02</td>\n",
       "      <td>9.000000e+00</td>\n",
       "      <td>1.000000e+00</td>\n",
       "      <td>1.000000e+00</td>\n",
       "      <td>1.000000e+00</td>\n",
       "      <td>1.000000e+00</td>\n",
       "      <td>7.700000e+01</td>\n",
       "      <td>1.000000e+00</td>\n",
       "      <td>2.550000e+02</td>\n",
       "    </tr>\n",
       "  </tbody>\n",
       "</table>\n",
       "<p>8 rows × 37 columns</p>\n",
       "</div>"
      ],
      "text/plain": [
       "       srv_diff_host_rate  dst_host_srv_serror_rate    num_shells  \\\n",
       "count        1.074983e+06              1.074983e+06  1.074983e+06   \n",
       "mean         1.179052e-01              1.901312e-01  3.386100e-04   \n",
       "std          2.655133e-01              3.913491e-01  1.864935e-02   \n",
       "min          0.000000e+00              0.000000e+00  0.000000e+00   \n",
       "25%          0.000000e+00              0.000000e+00  0.000000e+00   \n",
       "50%          0.000000e+00              0.000000e+00  0.000000e+00   \n",
       "75%          9.000000e-02              0.000000e+00  0.000000e+00   \n",
       "max          1.000000e+00              1.000000e+00  2.000000e+00   \n",
       "\n",
       "       same_srv_rate          land     logged_in  srv_serror_rate  \\\n",
       "count   1.074983e+06  1.074983e+06  1.074983e+06     1.074983e+06   \n",
       "mean    7.785645e-01  2.418643e-05  6.301216e-01     1.908086e-01   \n",
       "std     3.917211e-01  4.917913e-03  4.827718e-01     3.916618e-01   \n",
       "min     0.000000e+00  0.000000e+00  0.000000e+00     0.000000e+00   \n",
       "25%     1.000000e+00  0.000000e+00  0.000000e+00     0.000000e+00   \n",
       "50%     1.000000e+00  0.000000e+00  1.000000e+00     0.000000e+00   \n",
       "75%     1.000000e+00  0.000000e+00  1.000000e+00     0.000000e+00   \n",
       "max     1.000000e+00  1.000000e+00  1.000000e+00     1.000000e+00   \n",
       "\n",
       "           num_root  diff_srv_rate  dst_host_srv_diff_host_rate  \\\n",
       "count  1.074983e+06   1.074983e+06                 1.074983e+06   \n",
       "mean   5.875349e-02   3.159977e-02                 2.173620e-02   \n",
       "std    8.406188e+00   1.169091e-01                 5.636329e-02   \n",
       "min    0.000000e+00   0.000000e+00                 0.000000e+00   \n",
       "25%    0.000000e+00   0.000000e+00                 0.000000e+00   \n",
       "50%    0.000000e+00   0.000000e+00                 0.000000e+00   \n",
       "75%    0.000000e+00   1.000000e-02                 2.000000e-02   \n",
       "max    7.468000e+03   1.000000e+00                 1.000000e+00   \n",
       "\n",
       "              ...          wrong_fragment  dst_host_count  num_access_files  \\\n",
       "count         ...            1.074983e+06    1.074983e+06      1.074983e+06   \n",
       "mean          ...            2.735857e-03    1.619737e+02      4.320068e-03   \n",
       "std           ...            8.836023e-02    1.022639e+02      7.347858e-02   \n",
       "min           ...            0.000000e+00    0.000000e+00      0.000000e+00   \n",
       "25%           ...            0.000000e+00    5.000000e+01      0.000000e+00   \n",
       "50%           ...            0.000000e+00    2.240000e+02      0.000000e+00   \n",
       "75%           ...            0.000000e+00    2.550000e+02      0.000000e+00   \n",
       "max           ...            3.000000e+00    2.550000e+02      9.000000e+00   \n",
       "\n",
       "        serror_rate  is_hot_login  dst_host_rerror_rate  srv_rerror_rate  \\\n",
       "count  1.074983e+06  1.074983e+06          1.074983e+06     1.074983e+06   \n",
       "mean   1.901184e-01  1.860495e-06          7.954166e-02     7.793108e-02   \n",
       "std    3.909790e-01  1.363999e-03          2.622005e-01     2.659115e-01   \n",
       "min    0.000000e+00  0.000000e+00          0.000000e+00     0.000000e+00   \n",
       "25%    0.000000e+00  0.000000e+00          0.000000e+00     0.000000e+00   \n",
       "50%    0.000000e+00  0.000000e+00          0.000000e+00     0.000000e+00   \n",
       "75%    0.000000e+00  0.000000e+00          0.000000e+00     0.000000e+00   \n",
       "max    1.000000e+00  1.000000e+00          1.000000e+00     1.000000e+00   \n",
       "\n",
       "                hot  dst_host_same_src_port_rate  dst_host_srv_count  \n",
       "count  1.074983e+06                 1.074983e+06        1.074983e+06  \n",
       "mean   5.427993e-02                 9.335003e-02        1.592105e+02  \n",
       "std    9.974659e-01                 2.298151e-01        1.098837e+02  \n",
       "min    0.000000e+00                 0.000000e+00        0.000000e+00  \n",
       "25%    0.000000e+00                 0.000000e+00        1.800000e+01  \n",
       "50%    0.000000e+00                 1.000000e-02        2.480000e+02  \n",
       "75%    0.000000e+00                 4.000000e-02        2.550000e+02  \n",
       "max    7.700000e+01                 1.000000e+00        2.550000e+02  \n",
       "\n",
       "[8 rows x 37 columns]"
      ]
     },
     "execution_count": 85,
     "metadata": {},
     "output_type": "execute_result"
    }
   ],
   "source": [
    "x_numerical.describe()"
   ]
  },
  {
   "cell_type": "code",
   "execution_count": 90,
   "metadata": {},
   "outputs": [
    {
     "data": {
      "text/plain": [
       "<matplotlib.axes._subplots.AxesSubplot at 0x1369d7048>"
      ]
     },
     "execution_count": 90,
     "metadata": {},
     "output_type": "execute_result"
    },
    {
     "data": {
      "image/png": "[encoded data removed]",
      "text/plain": [
       "<matplotlib.figure.Figure at 0x1368c3be0>"
      ]
     },
     "metadata": {},
     "output_type": "display_data"
    }
   ],
   "source": [
    "corr = x_numerical.corr()\n",
    "f, ax = plt.subplots(figsize=(10, 8))\n",
    "\n",
    "sns.heatmap(corr, mask=np.zeros_like(corr, dtype=np.bool), cmap=sns.diverging_palette(220, 10, as_cmap=True),\n",
    "            square=True, ax=ax)"
   ]
  },
  {
   "cell_type": "code",
   "execution_count": 124,
   "metadata": {},
   "outputs": [
    {
     "name": "stdout",
     "output_type": "stream",
     "text": [
      "dst_host_srv_serror_rate -- srv_serror_rate\n",
      "0.997389318958\n",
      "dst_host_srv_serror_rate -- dst_host_serror_rate\n",
      "0.995132004735\n",
      "dst_host_srv_serror_rate -- serror_rate\n",
      "0.994938301414\n",
      "same_srv_rate -- dst_host_same_srv_rate\n",
      "0.822898895296\n",
      "same_srv_rate -- dst_host_srv_count\n",
      "0.756331355228\n",
      "srv_serror_rate -- dst_host_serror_rate\n",
      "0.993650986544\n",
      "srv_serror_rate -- serror_rate\n",
      "0.996829287845\n",
      "num_root -- num_compromised\n",
      "0.997601477293\n",
      "rerror_rate -- dst_host_srv_rerror_rate\n",
      "0.958523942792\n",
      "rerror_rate -- dst_host_rerror_rate\n",
      "0.965840002929\n",
      "rerror_rate -- srv_rerror_rate\n",
      "0.989590879106\n",
      "dst_host_srv_rerror_rate -- dst_host_rerror_rate\n",
      "0.96124643166\n",
      "dst_host_srv_rerror_rate -- srv_rerror_rate\n",
      "0.959543106568\n",
      "dst_host_serror_rate -- serror_rate\n",
      "0.995800067645\n",
      "dst_host_same_srv_rate -- dst_host_srv_count\n",
      "0.931814041588\n",
      "dst_host_rerror_rate -- srv_rerror_rate\n",
      "0.95640162997\n"
     ]
    }
   ],
   "source": [
    "pairsSet = set()\n",
    "\n",
    "def is_only_zero_and_one(array):\n",
    "    array = np.array(array.unique())\n",
    "    return len(array) == 2 and ((array[0] == 0 and array[1] == 1) or ((array[0] == 1 and array[1] == 0)))\n",
    "\n",
    "for column in x_numerical.columns:\n",
    "    for inner_column in x_numerical.columns:            \n",
    "        key1 = column + '-' + inner_column\n",
    "        key2 = inner_column + '-' + column\n",
    "        if column != inner_column and key1 not in pairsSet and key2 not in pairsSet:\n",
    "            pairsSet.add(key1)\n",
    "            pairsSet.add(key2)\n",
    "            correlation = np.corrcoef(x_numerical[column], x_numerical[inner_column])[0, 1]\n",
    "            if ((correlation >= 0.75) &  (not is_only_zero_and_one(x_numerical[column])) &  (not is_only_zero_and_one(x_numerical[inner_column]))):\n",
    "                print(column + \" -- \" + inner_column)\n",
    "                print(correlation)\n",
    "                "
   ]
  },
  {
   "cell_type": "code",
   "execution_count": null,
   "metadata": {},
   "outputs": [],
   "source": [
    "corr_columns()"
   ]
  },
  {
   "cell_type": "code",
   "execution_count": 137,
   "metadata": {},
   "outputs": [
    {
     "name": "stdout",
     "output_type": "stream",
     "text": [
      "count    1.074983e+06\n",
      "mean     1.901184e-01\n",
      "std      3.909790e-01\n",
      "min      0.000000e+00\n",
      "25%      0.000000e+00\n",
      "50%      0.000000e+00\n",
      "75%      0.000000e+00\n",
      "max      1.000000e+00\n",
      "Name: serror_rate, dtype: float64\n",
      "count    1.074983e+06\n",
      "mean     1.901312e-01\n",
      "std      3.913491e-01\n",
      "min      0.000000e+00\n",
      "25%      0.000000e+00\n",
      "50%      0.000000e+00\n",
      "75%      0.000000e+00\n",
      "max      1.000000e+00\n",
      "Name: dst_host_srv_serror_rate, dtype: float64\n",
      "count    1.074983e+06\n",
      "mean     1.908086e-01\n",
      "std      3.916618e-01\n",
      "min      0.000000e+00\n",
      "25%      0.000000e+00\n",
      "50%      0.000000e+00\n",
      "75%      0.000000e+00\n",
      "max      1.000000e+00\n",
      "Name: srv_serror_rate, dtype: float64\n",
      "count    1.074983e+06\n",
      "mean     1.906596e-01\n",
      "std      3.907633e-01\n",
      "min      0.000000e+00\n",
      "25%      0.000000e+00\n",
      "50%      0.000000e+00\n",
      "75%      0.000000e+00\n",
      "max      1.000000e+00\n",
      "Name: dst_host_serror_rate, dtype: float64\n",
      "count    1.074983e+06\n",
      "mean     5.875349e-02\n",
      "std      8.406188e+00\n",
      "min      0.000000e+00\n",
      "25%      0.000000e+00\n",
      "50%      0.000000e+00\n",
      "75%      0.000000e+00\n",
      "max      7.468000e+03\n",
      "Name: num_root, dtype: float64\n",
      "count    1.074983e+06\n",
      "mean     3.570847e-02\n",
      "std      8.232131e+00\n",
      "min      0.000000e+00\n",
      "25%      0.000000e+00\n",
      "50%      0.000000e+00\n",
      "75%      0.000000e+00\n",
      "max      7.479000e+03\n",
      "Name: num_compromised, dtype: float64\n"
     ]
    }
   ],
   "source": [
    "print(df.serror_rate.describe())\n",
    "print(df.dst_host_srv_serror_rate.describe())\n",
    "print(df.srv_serror_rate.describe())\n",
    "print(df.dst_host_serror_rate.describe())\n",
    "print(df.num_root.describe())\n",
    "print(df.num_compromised.describe())"
   ]
  },
  {
   "cell_type": "markdown",
   "metadata": {},
   "source": [
    "We should remove unecessery information"
   ]
  },
  {
   "cell_type": "code",
   "execution_count": 12,
   "metadata": {},
   "outputs": [],
   "source": [
    "corr_column_names = ['dst_host_srv_serror_rate', 'srv_serror_rate', 'dst_host_serror_rate']\n",
    "df.drop(corr_column_names, axis=1, inplace=True)"
   ]
  },
  {
   "cell_type": "code",
   "execution_count": 97,
   "metadata": {
    "scrolled": true
   },
   "outputs": [
    {
     "data": {
      "text/plain": [
       "<matplotlib.axes._subplots.AxesSubplot at 0x1289439b0>"
      ]
     },
     "execution_count": 97,
     "metadata": {},
     "output_type": "execute_result"
    },
    {
     "data": {
      "image/png": "[encoded data removed]",
      "text/plain": [
       "<matplotlib.figure.Figure at 0x1365bbb38>"
      ]
     },
     "metadata": {},
     "output_type": "display_data"
    }
   ],
   "source": [
    "sns.distplot(x_numerical['num_root'])"
   ]
  },
  {
   "cell_type": "markdown",
   "metadata": {},
   "source": [
    "### Translate categorial data to numeric"
   ]
  },
  {
   "cell_type": "code",
   "execution_count": 26,
   "metadata": {},
   "outputs": [],
   "source": [
    "le = LabelEncoder()\n",
    "need_labeling = ['protocol_type', 'service','flag']\n",
    "\n",
    "for i in need_labeling:\n",
    "    le.fit(df[i])\n",
    "    df[i] = le.transform(df[i])"
   ]
  },
  {
   "cell_type": "markdown",
   "metadata": {},
   "source": [
    "### **Feature selection using random forest **"
   ]
  },
  {
   "cell_type": "code",
   "execution_count": 13,
   "metadata": {},
   "outputs": [],
   "source": [
    "from sklearn.ensemble import RandomForestClassifier\n",
    "rf=RandomForestClassifier(max_depth=25, random_state=42)"
   ]
  },
  {
   "cell_type": "code",
   "execution_count": 42,
   "metadata": {},
   "outputs": [],
   "source": [
    "from sklearn.model_selection import train_test_split\n",
    "X = df[df.columns[:-1]]\n",
    "y = df['classes']\n",
    "\n",
    "X_train, X_test, y_train, y_test = train_test_split(X, y, test_size=0.23, random_state=42)\n"
   ]
  },
  {
   "cell_type": "code",
   "execution_count": 43,
   "metadata": {},
   "outputs": [
    {
     "name": "stderr",
     "output_type": "stream",
     "text": [
      "/usr/local/lib/python3.6/site-packages/pandas/core/indexing.py:517: SettingWithCopyWarning:\n",
      "\n",
      "\n",
      "A value is trying to be set on a copy of a slice from a DataFrame.\n",
      "Try using .loc[row_indexer,col_indexer] = value instead\n",
      "\n",
      "See the caveats in the documentation: http://pandas.pydata.org/pandas-docs/stable/indexing.html#indexing-view-versus-copy\n",
      "\n"
     ]
    }
   ],
   "source": [
    "from sklearn.preprocessing import MinMaxScaler\n",
    "def do_normalization(x_train):\n",
    "    cat_features = ['protocol_type','service','flag','land','logged_in','is_host_login','is_guest_login']\n",
    "    cols=list(x_train.axes[1].values)\n",
    "    cont_features=list(set(cols).difference(set(cat_features)))\n",
    "    scaler = MinMaxScaler()\n",
    "    x_train.loc[:,cont_features]=scaler.fit_transform(x_train.loc[:,cont_features])\n",
    "    return x_train\n",
    "X_train = do_normalization(X_train)\n",
    "X_test = do_normalization(X_test)"
   ]
  },
  {
   "cell_type": "code",
   "execution_count": 44,
   "metadata": {},
   "outputs": [
    {
     "data": {
      "text/html": [
       "<div>\n",
       "<style>\n",
       "    .dataframe thead tr:only-child th {\n",
       "        text-align: right;\n",
       "    }\n",
       "\n",
       "    .dataframe thead th {\n",
       "        text-align: left;\n",
       "    }\n",
       "\n",
       "    .dataframe tbody tr th {\n",
       "        vertical-align: top;\n",
       "    }\n",
       "</style>\n",
       "<table border=\"1\" class=\"dataframe\">\n",
       "  <thead>\n",
       "    <tr style=\"text-align: right;\">\n",
       "      <th></th>\n",
       "      <th>duration</th>\n",
       "      <th>protocol_type</th>\n",
       "      <th>service</th>\n",
       "      <th>flag</th>\n",
       "      <th>src_bytes</th>\n",
       "      <th>dst_bytes</th>\n",
       "      <th>land</th>\n",
       "      <th>wrong_fragment</th>\n",
       "      <th>urgent</th>\n",
       "      <th>hot</th>\n",
       "      <th>...</th>\n",
       "      <th>diff_srv_rate</th>\n",
       "      <th>srv_diff_host_rate</th>\n",
       "      <th>dst_host_count</th>\n",
       "      <th>dst_host_srv_count</th>\n",
       "      <th>dst_host_same_srv_rate</th>\n",
       "      <th>dst_host_diff_srv_rate</th>\n",
       "      <th>dst_host_same_src_port_rate</th>\n",
       "      <th>dst_host_srv_diff_host_rate</th>\n",
       "      <th>dst_host_rerror_rate</th>\n",
       "      <th>dst_host_srv_rerror_rate</th>\n",
       "    </tr>\n",
       "  </thead>\n",
       "  <tbody>\n",
       "    <tr>\n",
       "      <th>741809</th>\n",
       "      <td>0.000017</td>\n",
       "      <td>1</td>\n",
       "      <td>54</td>\n",
       "      <td>9</td>\n",
       "      <td>1.404687e-06</td>\n",
       "      <td>2.534472e-07</td>\n",
       "      <td>0</td>\n",
       "      <td>0.0</td>\n",
       "      <td>0.0</td>\n",
       "      <td>0.0</td>\n",
       "      <td>...</td>\n",
       "      <td>0.00</td>\n",
       "      <td>1.00</td>\n",
       "      <td>0.537255</td>\n",
       "      <td>0.411765</td>\n",
       "      <td>0.77</td>\n",
       "      <td>0.04</td>\n",
       "      <td>0.01</td>\n",
       "      <td>0.00</td>\n",
       "      <td>0.04</td>\n",
       "      <td>0.05</td>\n",
       "    </tr>\n",
       "    <tr>\n",
       "      <th>821683</th>\n",
       "      <td>0.000000</td>\n",
       "      <td>1</td>\n",
       "      <td>24</td>\n",
       "      <td>9</td>\n",
       "      <td>1.987119e-07</td>\n",
       "      <td>1.992462e-06</td>\n",
       "      <td>0</td>\n",
       "      <td>0.0</td>\n",
       "      <td>0.0</td>\n",
       "      <td>0.0</td>\n",
       "      <td>...</td>\n",
       "      <td>0.00</td>\n",
       "      <td>0.67</td>\n",
       "      <td>0.011765</td>\n",
       "      <td>1.000000</td>\n",
       "      <td>1.00</td>\n",
       "      <td>0.00</td>\n",
       "      <td>0.33</td>\n",
       "      <td>0.03</td>\n",
       "      <td>0.00</td>\n",
       "      <td>0.00</td>\n",
       "    </tr>\n",
       "    <tr>\n",
       "      <th>856905</th>\n",
       "      <td>0.000000</td>\n",
       "      <td>1</td>\n",
       "      <td>24</td>\n",
       "      <td>9</td>\n",
       "      <td>2.903592e-07</td>\n",
       "      <td>2.242092e-06</td>\n",
       "      <td>0</td>\n",
       "      <td>0.0</td>\n",
       "      <td>0.0</td>\n",
       "      <td>0.0</td>\n",
       "      <td>...</td>\n",
       "      <td>0.00</td>\n",
       "      <td>0.00</td>\n",
       "      <td>1.000000</td>\n",
       "      <td>1.000000</td>\n",
       "      <td>1.00</td>\n",
       "      <td>0.00</td>\n",
       "      <td>0.00</td>\n",
       "      <td>0.00</td>\n",
       "      <td>0.00</td>\n",
       "      <td>0.00</td>\n",
       "    </tr>\n",
       "    <tr>\n",
       "      <th>520365</th>\n",
       "      <td>0.000000</td>\n",
       "      <td>1</td>\n",
       "      <td>49</td>\n",
       "      <td>5</td>\n",
       "      <td>0.000000e+00</td>\n",
       "      <td>0.000000e+00</td>\n",
       "      <td>0</td>\n",
       "      <td>0.0</td>\n",
       "      <td>0.0</td>\n",
       "      <td>0.0</td>\n",
       "      <td>...</td>\n",
       "      <td>0.06</td>\n",
       "      <td>0.00</td>\n",
       "      <td>1.000000</td>\n",
       "      <td>0.070588</td>\n",
       "      <td>0.07</td>\n",
       "      <td>0.05</td>\n",
       "      <td>0.00</td>\n",
       "      <td>0.00</td>\n",
       "      <td>0.00</td>\n",
       "      <td>0.00</td>\n",
       "    </tr>\n",
       "    <tr>\n",
       "      <th>600725</th>\n",
       "      <td>0.000000</td>\n",
       "      <td>1</td>\n",
       "      <td>49</td>\n",
       "      <td>5</td>\n",
       "      <td>0.000000e+00</td>\n",
       "      <td>0.000000e+00</td>\n",
       "      <td>0</td>\n",
       "      <td>0.0</td>\n",
       "      <td>0.0</td>\n",
       "      <td>0.0</td>\n",
       "      <td>...</td>\n",
       "      <td>0.07</td>\n",
       "      <td>0.00</td>\n",
       "      <td>1.000000</td>\n",
       "      <td>0.011765</td>\n",
       "      <td>0.01</td>\n",
       "      <td>0.07</td>\n",
       "      <td>0.00</td>\n",
       "      <td>0.00</td>\n",
       "      <td>0.00</td>\n",
       "      <td>0.00</td>\n",
       "    </tr>\n",
       "  </tbody>\n",
       "</table>\n",
       "<p>5 rows × 37 columns</p>\n",
       "</div>"
      ],
      "text/plain": [
       "        duration  protocol_type  service  flag     src_bytes     dst_bytes  \\\n",
       "741809  0.000017              1       54     9  1.404687e-06  2.534472e-07   \n",
       "821683  0.000000              1       24     9  1.987119e-07  1.992462e-06   \n",
       "856905  0.000000              1       24     9  2.903592e-07  2.242092e-06   \n",
       "520365  0.000000              1       49     5  0.000000e+00  0.000000e+00   \n",
       "600725  0.000000              1       49     5  0.000000e+00  0.000000e+00   \n",
       "\n",
       "        land  wrong_fragment  urgent  hot            ...             \\\n",
       "741809     0             0.0     0.0  0.0            ...              \n",
       "821683     0             0.0     0.0  0.0            ...              \n",
       "856905     0             0.0     0.0  0.0            ...              \n",
       "520365     0             0.0     0.0  0.0            ...              \n",
       "600725     0             0.0     0.0  0.0            ...              \n",
       "\n",
       "        diff_srv_rate  srv_diff_host_rate  dst_host_count  dst_host_srv_count  \\\n",
       "741809           0.00                1.00        0.537255            0.411765   \n",
       "821683           0.00                0.67        0.011765            1.000000   \n",
       "856905           0.00                0.00        1.000000            1.000000   \n",
       "520365           0.06                0.00        1.000000            0.070588   \n",
       "600725           0.07                0.00        1.000000            0.011765   \n",
       "\n",
       "        dst_host_same_srv_rate  dst_host_diff_srv_rate  \\\n",
       "741809                    0.77                    0.04   \n",
       "821683                    1.00                    0.00   \n",
       "856905                    1.00                    0.00   \n",
       "520365                    0.07                    0.05   \n",
       "600725                    0.01                    0.07   \n",
       "\n",
       "        dst_host_same_src_port_rate  dst_host_srv_diff_host_rate  \\\n",
       "741809                         0.01                         0.00   \n",
       "821683                         0.33                         0.03   \n",
       "856905                         0.00                         0.00   \n",
       "520365                         0.00                         0.00   \n",
       "600725                         0.00                         0.00   \n",
       "\n",
       "        dst_host_rerror_rate  dst_host_srv_rerror_rate  \n",
       "741809                  0.04                      0.05  \n",
       "821683                  0.00                      0.00  \n",
       "856905                  0.00                      0.00  \n",
       "520365                  0.00                      0.00  \n",
       "600725                  0.00                      0.00  \n",
       "\n",
       "[5 rows x 37 columns]"
      ]
     },
     "execution_count": 44,
     "metadata": {},
     "output_type": "execute_result"
    }
   ],
   "source": [
    "X_train.head()"
   ]
  },
  {
   "cell_type": "code",
   "execution_count": null,
   "metadata": {},
   "outputs": [],
   "source": []
  },
  {
   "cell_type": "code",
   "execution_count": 45,
   "metadata": {},
   "outputs": [
    {
     "data": {
      "text/plain": [
       "RandomForestClassifier(bootstrap=True, class_weight=None, criterion='gini',\n",
       "            max_depth=25, max_features='auto', max_leaf_nodes=None,\n",
       "            min_impurity_decrease=0.0, min_impurity_split=None,\n",
       "            min_samples_leaf=1, min_samples_split=2,\n",
       "            min_weight_fraction_leaf=0.0, n_estimators=10, n_jobs=1,\n",
       "            oob_score=False, random_state=42, verbose=0, warm_start=False)"
      ]
     },
     "execution_count": 45,
     "metadata": {},
     "output_type": "execute_result"
    }
   ],
   "source": [
    "rf.fit(X_train,y_train)"
   ]
  },
  {
   "cell_type": "code",
   "execution_count": 46,
   "metadata": {},
   "outputs": [
    {
     "name": "stdout",
     "output_type": "stream",
     "text": [
      "['duration', 'protocol_type', 'service', 'flag', 'src_bytes', 'dst_bytes', 'land', 'wrong_fragment', 'urgent', 'hot', 'num_failed_logins', 'logged_in', 'num_compromised', 'root_shell', 'su_attempted', 'num_root', 'num_file_creations', 'num_shells', 'num_access_files', 'is_hot_login', 'is_guest_login', 'count', 'srv_count', 'serror_rate', 'rerror_rate', 'srv_rerror_rate', 'same_srv_rate', 'diff_srv_rate', 'srv_diff_host_rate', 'dst_host_count', 'dst_host_srv_count', 'dst_host_same_srv_rate', 'dst_host_diff_srv_rate', 'dst_host_same_src_port_rate', 'dst_host_srv_diff_host_rate', 'dst_host_rerror_rate', 'dst_host_srv_rerror_rate']\n"
     ]
    }
   ],
   "source": [
    "importances=[]\n",
    "for (x,y) in zip((X_train.axes[1].values),rf.feature_importances_):\n",
    "    importances.append([x, y])\n",
    "    \n",
    "print([i[0] for i in importances])"
   ]
  },
  {
   "cell_type": "code",
   "execution_count": 47,
   "metadata": {},
   "outputs": [
    {
     "data": {
      "text/plain": [
       "<matplotlib.axes._subplots.AxesSubplot at 0x124b45630>"
      ]
     },
     "execution_count": 47,
     "metadata": {},
     "output_type": "execute_result"
    },
    {
     "data": {
      "image/png": "[encoded data removed]",
      "text/plain": [
       "<matplotlib.figure.Figure at 0x124d06080>"
      ]
     },
     "metadata": {},
     "output_type": "display_data"
    }
   ],
   "source": [
    "fig, axes = plt.subplots(figsize=(20,10))        \n",
    "sns.barplot(x=np.sort([i[1] for i in importances]),y=[i[0] for i in importances])"
   ]
  },
  {
   "cell_type": "markdown",
   "metadata": {},
   "source": [
    "### Save data"
   ]
  },
  {
   "cell_type": "code",
   "execution_count": 50,
   "metadata": {},
   "outputs": [],
   "source": [
    "X_train.to_csv(\"./data/train_data\")\n",
    "y_train.to_csv(\"./data/train_labels\")\n",
    "X_test.to_csv(\"./data/test_data\")\n",
    "y_test.to_csv(\"./data/test_labels\")"
   ]
  },
  {
   "cell_type": "markdown",
   "metadata": {},
   "source": [
    "## Results of EDA"
   ]
  },
  {
   "cell_type": "markdown",
   "metadata": {},
   "source": [
    "1. We find 1 feature that doesn't impact on target\n",
    "2. 3 feature we've deleted due to high correlation \n",
    "3. Many samples had duplicate.\n",
    "4. It seems that some of features are not important"
   ]
  }
 ],
 "metadata": {
  "kernelspec": {
   "display_name": "Python 3",
   "language": "python",
   "name": "python3"
  },
  "language_info": {
   "codemirror_mode": {
    "name": "ipython",
    "version": 3
   },
   "file_extension": ".py",
   "mimetype": "text/x-python",
   "name": "python",
   "nbconvert_exporter": "python",
   "pygments_lexer": "ipython3",
   "version": "3.6.2"
  }
 },
 "nbformat": 4,
 "nbformat_minor": 2
}
