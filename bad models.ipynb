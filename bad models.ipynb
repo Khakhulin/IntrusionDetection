{
 "cells": [
  {
   "cell_type": "code",
   "execution_count": 1,
   "metadata": {},
   "outputs": [],
   "source": [
    "from EDA_preprocessing import preprocess_data\n",
    "\n",
    "corrected = \"./data/corrected\"\n",
    "kddcup_data =  \"./data/kddcup.data.corrected\"\n",
    "\n",
    "kddcup_data_10_percent_corrected = \"./data/kddcup.data_10_percent_corrected\"\n",
    "kddcup_newtestdata_10_percent_unlabeled = \"./data/kddcup.newtestdata_10_percent_unlabeled\"\n",
    "\n",
    "kddcup_testdata_unlabeled = \"./data/kddcup.testdata.unlabeled\"\n",
    "kddcup_testdata_unlabeled_10_percent = \"./data/kddcup.testdata.unlabeled_10_percent\"\n",
    "\n",
    "correspondence = \"./data/training_attack_types.txt\""
   ]
  },
  {
   "cell_type": "code",
   "execution_count": null,
   "metadata": {},
   "outputs": [],
   "source": [
    "%%notify\n",
    "X_train, y_train, X_test, y_test = preprocess_data(kddcup_data,\n",
    "                                                   kddcup_testdata_unlabeled_10_percent,\n",
    "                                                   \"./data/headers\",\n",
    "                                                   \"./data/training_attack_types.txt\")"
   ]
  },
  {
   "cell_type": "code",
   "execution_count": null,
   "metadata": {},
   "outputs": [],
   "source": [
    "X_train.to_csv('X_train.csv')\n",
    "X_test.to_csv(\"X_test.csv\")\n",
    "y_train.to_csv(\"y_train.csv\")\n",
    "y_test.to_csv('y_test.csv')"
   ]
  },
  {
   "cell_type": "code",
   "execution_count": 1,
   "metadata": {},
   "outputs": [],
   "source": [
    "import pandas as pd\n",
    "\n",
    "X_test = pd.read_csv('X_train.csv', header=0, index_col=0)\n",
    "X_train = pd.read_csv(\"X_test.csv\", header=0, index_col=0)\n",
    "y_train = pd.Series.from_csv(\"y_test.csv\", header=None, index_col=0)\n",
    "y_test = pd.Series.from_csv('y_train.csv', header=None, index_col=0)"
   ]
  },
  {
   "cell_type": "code",
   "execution_count": 2,
   "metadata": {},
   "outputs": [
    {
     "name": "stdout",
     "output_type": "stream",
     "text": [
      "(247247, 37)\n",
      "(247247,)\n",
      "(827736, 37)\n",
      "(827736,)\n"
     ]
    }
   ],
   "source": [
    "print(X_train.shape)\n",
    "print(y_train.shape)\n",
    "print(X_test.shape)\n",
    "print(y_test.shape)"
   ]
  },
  {
   "cell_type": "code",
   "execution_count": 3,
   "metadata": {},
   "outputs": [],
   "source": [
    "from sklearn.naive_bayes import GaussianNB\n",
    "from sklearn.metrics import f1_score, accuracy_score, classification_report\n",
    "import numpy as np"
   ]
  },
  {
   "cell_type": "code",
   "execution_count": 4,
   "metadata": {},
   "outputs": [
    {
     "name": "stdout",
     "output_type": "stream",
     "text": [
      "0.376093896565\n",
      "0.630308962293\n",
      "0.3780982437\n",
      "0.632815293765\n",
      "             precision    recall  f1-score   support\n",
      "\n",
      "          0       1.00      0.52      0.68    625708\n",
      "          1       0.09      0.99      0.16     10619\n",
      "          2       0.99      0.99      0.99    190582\n",
      "          3       0.00      0.64      0.00        42\n",
      "          4       0.03      0.49      0.05       785\n",
      "\n",
      "avg / total       0.98      0.63      0.75    827736\n",
      "\n"
     ]
    }
   ],
   "source": [
    "clf = GaussianNB()\n",
    "clf.fit(X_train, y_train)\n",
    "\n",
    "\n",
    "print (f1_score(y_train, clf.predict(X_train),labels=[0,1,2,3,4], average='macro'))\n",
    "print (accuracy_score(y_train, clf.predict(X_train)))\n",
    "\n",
    "predict = clf.predict(X_test)\n",
    "\n",
    "print (f1_score(y_test, predict, labels=[0,1,2,3,4], average='macro'))\n",
    "print (accuracy_score(y_test, predict))\n",
    "print (classification_report(y_test, predict))"
   ]
  },
  {
   "cell_type": "code",
   "execution_count": 5,
   "metadata": {},
   "outputs": [],
   "source": [
    "from sklearn.svm import SVC\n",
    "from sklearn.model_selection import GridSearchCV\n",
    "from sklearn.metrics import make_scorer"
   ]
  },
  {
   "cell_type": "code",
   "execution_count": 6,
   "metadata": {},
   "outputs": [
    {
     "name": "stdout",
     "output_type": "stream",
     "text": [
      "[LibSVM]"
     ]
    },
    {
     "name": "stderr",
     "output_type": "stream",
     "text": [
      "/usr/local/lib/python2.7/dist-packages/sklearn/metrics/classification.py:1113: UndefinedMetricWarning: F-score is ill-defined and being set to 0.0 in labels with no predicted samples.\n",
      "  'precision', 'predicted', average, warn_for)\n"
     ]
    },
    {
     "name": "stdout",
     "output_type": "stream",
     "text": [
      "0.570416607219\n",
      "0.994054528467\n"
     ]
    }
   ],
   "source": [
    "clf = SVC(kernel='linear', verbose = True)\n",
    "clf.fit(X_train, y_train)\n",
    "print (f1_score(y_train, clf.predict(X_train),labels=[0,1,2,3,4], average='macro'))\n",
    "print (accuracy_score(y_train, clf.predict(X_train)))\n",
    "\n",
    "predict = clf.predict(X_test)\n",
    "\n"
   ]
  },
  {
   "cell_type": "code",
   "execution_count": 7,
   "metadata": {},
   "outputs": [
    {
     "name": "stdout",
     "output_type": "stream",
     "text": [
      "0.568975410721\n",
      "0.993766128331\n",
      "             precision    recall  f1-score   support\n",
      "\n",
      "          0       0.99      1.00      1.00    625708\n",
      "          1       0.97      0.76      0.85     10619\n",
      "          2       1.00      0.99      1.00    190582\n",
      "          3       0.00      0.00      0.00        42\n",
      "          4       0.00      0.00      0.00       785\n",
      "\n",
      "avg / total       0.99      0.99      0.99    827736\n",
      "\n"
     ]
    },
    {
     "name": "stderr",
     "output_type": "stream",
     "text": [
      "/usr/local/lib/python2.7/dist-packages/sklearn/metrics/classification.py:1113: UndefinedMetricWarning: Precision and F-score are ill-defined and being set to 0.0 in labels with no predicted samples.\n",
      "  'precision', 'predicted', average, warn_for)\n"
     ]
    }
   ],
   "source": [
    "print (f1_score(y_test, predict, labels=[0,1,2,3,4], average='macro'))\n",
    "print (accuracy_score(y_test, predict))\n",
    "\n",
    "print (classification_report(y_test, predict))"
   ]
  },
  {
   "cell_type": "code",
   "execution_count": 13,
   "metadata": {},
   "outputs": [],
   "source": [
    "f1 = make_scorer(f1_score, 'macro')"
   ]
  },
  {
   "cell_type": "code",
   "execution_count": 11,
   "metadata": {},
   "outputs": [
    {
     "name": "stdout",
     "output_type": "stream",
     "text": [
      "Fitting 3 folds for each of 20 candidates, totalling 60 fits\n",
      "[CV] kernel=rbf, C=0.1 ...............................................\n",
      "[CV] kernel=rbf, C=0.1 ...............................................\n",
      "[CV] ................................ kernel=rbf, C=0.1, total=   1.4s\n",
      "[CV] kernel=rbf, C=0.1 ...............................................\n",
      "[CV] ................................ kernel=rbf, C=0.1, total=   1.5s\n",
      "[CV] kernel=poly, C=0.1 ..............................................\n",
      "[CV] ................................ kernel=rbf, C=0.1, total=   0.8s\n",
      "[CV] kernel=poly, C=0.1 ..............................................\n",
      "[CV] ............................... kernel=poly, C=0.1, total=   2.2s\n",
      "[CV] kernel=poly, C=0.1 ..............................................\n",
      "[CV] ............................... kernel=poly, C=0.1, total=   2.2s\n",
      "[CV] kernel=sigmoid, C=0.1 ...........................................\n",
      "[CV] ............................ kernel=sigmoid, C=0.1, total=   1.1s\n",
      "[CV] kernel=sigmoid, C=0.1 ...........................................\n",
      "[CV] ............................... kernel=poly, C=0.1, total=   2.2s\n",
      "[CV] kernel=sigmoid, C=0.1 ...........................................\n",
      "[CV] ............................ kernel=sigmoid, C=0.1, total=   1.1s\n",
      "[CV] kernel=linear, C=0.1 ............................................\n",
      "[CV] ............................. kernel=linear, C=0.1, total=   0.2s\n",
      "[CV] kernel=linear, C=0.1 ............................................\n",
      "[CV] ............................ kernel=sigmoid, C=0.1, total=   1.1s\n",
      "[CV] kernel=linear, C=0.1 ............................................\n",
      "[CV] ............................. kernel=linear, C=0.1, total=   0.2s\n",
      "[CV] kernel=rbf, C=1 .................................................\n",
      "[CV] ............................. kernel=linear, C=0.1, total=   0.2s\n",
      "[CV] kernel=rbf, C=1 .................................................\n",
      "[CV] .................................. kernel=rbf, C=1, total=   0.4s\n",
      "[CV] kernel=rbf, C=1 .................................................\n",
      "[CV] .................................. kernel=rbf, C=1, total=   0.4s\n",
      "[CV] kernel=poly, C=1 ................................................\n",
      "[CV] .................................. kernel=rbf, C=1, total=   0.5s\n",
      "[CV] kernel=poly, C=1 ................................................\n",
      "[CV] ................................. kernel=poly, C=1, total=   2.3s\n",
      "[CV] kernel=poly, C=1 ................................................\n",
      "[CV] ................................. kernel=poly, C=1, total=   2.3s\n",
      "[CV] kernel=sigmoid, C=1 .............................................\n",
      "[CV] .............................. kernel=sigmoid, C=1, total=   0.4s\n",
      "[CV] kernel=sigmoid, C=1 .............................................\n",
      "[CV] .............................. kernel=sigmoid, C=1, total=   0.5s\n",
      "[CV] kernel=sigmoid, C=1 .............................................\n",
      "[CV] .............................. kernel=sigmoid, C=1, total=   0.5s\n",
      "[CV] kernel=linear, C=1 ..............................................\n",
      "[CV] ............................... kernel=linear, C=1, total=   0.2s\n",
      "[CV] kernel=linear, C=1 ..............................................\n",
      "[CV] ............................... kernel=linear, C=1, total=   0.3s\n",
      "[CV] kernel=linear, C=1 ..............................................\n",
      "[CV] ................................. kernel=poly, C=1, total=   2.1s\n",
      "[CV] kernel=rbf, C=5 .................................................\n",
      "[CV] ............................... kernel=linear, C=1, total=   0.2s\n",
      "[CV] kernel=rbf, C=5 .................................................\n",
      "[CV] .................................. kernel=rbf, C=5, total=   0.3s\n",
      "[CV] kernel=rbf, C=5 .................................................\n",
      "[CV] .................................. kernel=rbf, C=5, total=   0.3s\n",
      "[CV] kernel=poly, C=5 ................................................\n",
      "[CV] .................................. kernel=rbf, C=5, total=   0.2s\n",
      "[CV] kernel=poly, C=5 ................................................\n",
      "[CV] ................................. kernel=poly, C=5, total=   0.9s\n",
      "[CV] kernel=poly, C=5 ................................................\n",
      "[CV] ................................. kernel=poly, C=5, total=   0.9s\n",
      "[CV] kernel=sigmoid, C=5 .............................................\n",
      "[CV] .............................. kernel=sigmoid, C=5, total=   0.3s\n",
      "[CV] kernel=sigmoid, C=5 .............................................\n",
      "[CV] ................................. kernel=poly, C=5, total=   0.8s\n",
      "[CV] .............................. kernel=sigmoid, C=5, total=   0.3s\n",
      "[CV] kernel=sigmoid, C=5 .............................................\n",
      "[CV] kernel=linear, C=5 ..............................................\n",
      "[CV] ............................... kernel=linear, C=5, total=   0.2s\n",
      "[CV] kernel=linear, C=5 ..............................................\n",
      "[CV] .............................. kernel=sigmoid, C=5, total=   0.3s\n",
      "[CV] kernel=linear, C=5 ..............................................\n",
      "[CV] ............................... kernel=linear, C=5, total=   0.2s\n",
      "[CV] kernel=rbf, C=10 ................................................\n",
      "[CV] ............................... kernel=linear, C=5, total=   0.3s\n",
      "[CV] kernel=rbf, C=10 ................................................\n",
      "[CV] ................................. kernel=rbf, C=10, total=   0.2s\n",
      "[CV] kernel=rbf, C=10 ................................................\n"
     ]
    },
    {
     "name": "stderr",
     "output_type": "stream",
     "text": [
      "[Parallel(n_jobs=2)]: Done  37 tasks      | elapsed:   22.7s\n"
     ]
    },
    {
     "name": "stdout",
     "output_type": "stream",
     "text": [
      "[CV] ................................. kernel=rbf, C=10, total=   0.3s\n",
      "[CV] kernel=poly, C=10 ...............................................\n",
      "[CV] ................................. kernel=rbf, C=10, total=   0.3s\n",
      "[CV] kernel=poly, C=10 ...............................................\n",
      "[CV] ................................ kernel=poly, C=10, total=   0.6s\n",
      "[CV] kernel=poly, C=10 ...............................................\n",
      "[CV] ................................ kernel=poly, C=10, total=   0.6s\n",
      "[CV] kernel=sigmoid, C=10 ............................................\n",
      "[CV] ............................. kernel=sigmoid, C=10, total=   0.3s\n",
      "[CV] kernel=sigmoid, C=10 ............................................\n",
      "[CV] ................................ kernel=poly, C=10, total=   0.6s\n",
      "[CV] kernel=sigmoid, C=10 ............................................\n",
      "[CV] ............................. kernel=sigmoid, C=10, total=   0.4s\n",
      "[CV] kernel=linear, C=10 .............................................\n",
      "[CV] .............................. kernel=linear, C=10, total=   0.2s\n",
      "[CV] kernel=linear, C=10 .............................................\n",
      "[CV] ............................. kernel=sigmoid, C=10, total=   0.3s\n",
      "[CV] kernel=linear, C=10 .............................................\n",
      "[CV] .............................. kernel=linear, C=10, total=   0.3s\n",
      "[CV] kernel=rbf, C=15 ................................................\n",
      "[CV] .............................. kernel=linear, C=10, total=   0.3s\n",
      "[CV] kernel=rbf, C=15 ................................................\n",
      "[CV] ................................. kernel=rbf, C=15, total=   0.3s\n",
      "[CV] kernel=rbf, C=15 ................................................\n",
      "[CV] ................................. kernel=rbf, C=15, total=   0.3s\n",
      "[CV] kernel=poly, C=15 ...............................................\n",
      "[CV] ................................. kernel=rbf, C=15, total=   0.2s\n",
      "[CV] kernel=poly, C=15 ...............................................\n",
      "[CV] ................................ kernel=poly, C=15, total=   0.6s\n",
      "[CV] kernel=poly, C=15 ...............................................\n",
      "[CV] ................................ kernel=poly, C=15, total=   0.6s\n",
      "[CV] kernel=sigmoid, C=15 ............................................\n",
      "[CV] ............................. kernel=sigmoid, C=15, total=   0.3s\n",
      "[CV] kernel=sigmoid, C=15 ............................................\n",
      "[CV] ................................ kernel=poly, C=15, total=   0.5s\n",
      "[CV] kernel=sigmoid, C=15 ............................................\n",
      "[CV] ............................. kernel=sigmoid, C=15, total=   0.4s\n",
      "[CV] kernel=linear, C=15 .............................................\n",
      "[CV] ............................. kernel=sigmoid, C=15, total=   0.3s\n",
      "[CV] kernel=linear, C=15 .............................................\n",
      "[CV] .............................. kernel=linear, C=15, total=   0.3s\n",
      "[CV] kernel=linear, C=15 .............................................\n",
      "[CV] .............................. kernel=linear, C=15, total=   0.3s\n",
      "[CV] .............................. kernel=linear, C=15, total=   0.2s\n"
     ]
    },
    {
     "name": "stderr",
     "output_type": "stream",
     "text": [
      "[Parallel(n_jobs=2)]: Done  60 out of  60 | elapsed:   29.0s finished\n"
     ]
    },
    {
     "name": "stdout",
     "output_type": "stream",
     "text": [
      "SVC(C=15, cache_size=200, class_weight=None, coef0=0.0,\n",
      "  decision_function_shape=None, degree=3, gamma='auto', kernel='rbf',\n",
      "  max_iter=-1, probability=False, random_state=None, shrinking=True,\n",
      "  tol=0.001, verbose=False)\n"
     ]
    },
    {
     "data": {
      "application/javascript": [
       "$(document).ready(\n",
       "    function() {\n",
       "        function appendUniqueDiv(){\n",
       "            // append a div with our uuid so we can check that it's already\n",
       "            // been sent and avoid duplicates on page reload\n",
       "            var notifiedDiv = document.createElement(\"div\")\n",
       "            notifiedDiv.id = \"7a745ba0-781a-4ae8-9cd7-65c09e856167\"\n",
       "            element.append(notifiedDiv)\n",
       "        }\n",
       "\n",
       "        // only send notifications if the pageload is complete; this will\n",
       "        // help stop extra notifications when a saved notebook is loaded,\n",
       "        // which during testing gives us state \"interactive\", not \"complete\"\n",
       "        if (document.readyState === 'complete') {\n",
       "            // check for the div that signifies that the notification\n",
       "            // was already sent\n",
       "            if (document.getElementById(\"7a745ba0-781a-4ae8-9cd7-65c09e856167\") === null) {\n",
       "                var notificationPayload = {\"body\": \"Cell execution has finished!\", \"requireInteraction\": false, \"icon\": \"/static/base/images/favicon.ico\"};\n",
       "                if (Notification.permission !== 'denied') {\n",
       "                    if (Notification.permission !== 'granted') { \n",
       "                        Notification.requestPermission(function (permission) {\n",
       "                            if(!('permission' in Notification)) {\n",
       "                                Notification.permission = permission\n",
       "                            }\n",
       "                        })\n",
       "                    }\n",
       "                    if (Notification.permission === 'granted') {\n",
       "                    var notification = new Notification(\"Jupyter Notebook\", notificationPayload)\n",
       "                    appendUniqueDiv()\n",
       "                    notification.onclick = function () {\n",
       "                        window.focus();\n",
       "                        this.close();\n",
       "                        };\n",
       "                    } \n",
       "                }     \n",
       "            }\n",
       "        }\n",
       "    }\n",
       ")\n"
      ],
      "text/plain": [
       "<IPython.core.display.Javascript object>"
      ]
     },
     "metadata": {},
     "output_type": "display_data"
    }
   ],
   "source": [
    "%%notify\n",
    "\n",
    "params = {\n",
    "    'kernel' : ['rbf', 'poly', 'sigmoid', 'linear'],\n",
    "    'C' : [0.1, 1, 5, 10, 15],\n",
    "}\n",
    "clf = GridSearchCV(SVC(), params, n_jobs=2, verbose=2)\n",
    "clf.fit(X_train[:10000], y_train[:10000])\n",
    "\n",
    "print (clf.best_estimator_)\n",
    "clf = clf.best_estimator_\n",
    "\n",
    "predict = clf.predict(X_test)"
   ]
  },
  {
   "cell_type": "code",
   "execution_count": 12,
   "metadata": {},
   "outputs": [
    {
     "name": "stdout",
     "output_type": "stream",
     "text": [
      "             precision    recall  f1-score   support\n",
      "\n",
      "          0       0.99      1.00      1.00    625708\n",
      "          1       0.98      0.80      0.89     10619\n",
      "          2       1.00      0.99      0.99    190582\n",
      "          3       0.00      0.00      0.00        42\n",
      "          4       0.00      0.00      0.00       785\n",
      "\n",
      "avg / total       0.99      0.99      0.99    827736\n",
      "\n"
     ]
    }
   ],
   "source": [
    "print(classification_report(y_test, predict))"
   ]
  },
  {
   "cell_type": "code",
   "execution_count": null,
   "metadata": {},
   "outputs": [],
   "source": []
  },
  {
   "cell_type": "code",
   "execution_count": 4,
   "metadata": {},
   "outputs": [],
   "source": [
    "from sklearn.ensemble import RandomForestClassifier"
   ]
  },
  {
   "cell_type": "code",
   "execution_count": null,
   "metadata": {},
   "outputs": [],
   "source": [
    "params = {\n",
    "    'n_estimators' : [10,25,50,100],\n",
    "    'max_depth' : [10,25,50,100,None],\n",
    "}\n",
    "\n",
    "clf = GridSearchCV(RandomForestClassifier(), params, n_jobs=2, verbose=2)\n",
    "clf.fit(X_train, y_train)\n",
    "\n",
    "print (clf.best_estimator_)\n",
    "clf = clf.best_estimator_\n",
    "\n",
    "\n",
    "predict = clf.predict(X_test)\n",
    "print (f1_score(y_test, predict, labels=[0,1,2,3,4], average='macro'))\n",
    "print (accuracy_score(y_test, predict))\n",
    "\n"
   ]
  },
  {
   "cell_type": "code",
   "execution_count": 12,
   "metadata": {},
   "outputs": [
    {
     "name": "stdout",
     "output_type": "stream",
     "text": [
      "0.77761348717\n",
      "0.998934442866\n"
     ]
    }
   ],
   "source": [
    "print (f1_score(y_test, predict, labels=[0,1,2,3,4], average='macro'))\n",
    "print (accuracy_score(y_test, predict))\n"
   ]
  },
  {
   "cell_type": "code",
   "execution_count": 13,
   "metadata": {},
   "outputs": [
    {
     "name": "stdout",
     "output_type": "stream",
     "text": [
      "             precision    recall  f1-score   support\n",
      "\n",
      "          0       1.00      1.00      1.00    625708\n",
      "          1       0.99      0.99      0.99     10619\n",
      "          2       1.00      1.00      1.00    190582\n",
      "          3       1.00      0.10      0.17        42\n",
      "          4       0.94      0.59      0.73       785\n",
      "\n",
      "avg / total       1.00      1.00      1.00    827736\n",
      "\n"
     ]
    }
   ],
   "source": [
    "print classification_report(y_test, predict)"
   ]
  },
  {
   "cell_type": "code",
   "execution_count": 13,
   "metadata": {},
   "outputs": [],
   "source": [
    "from sklearn.ensemble import AdaBoostClassifier"
   ]
  },
  {
   "cell_type": "code",
   "execution_count": 15,
   "metadata": {},
   "outputs": [
    {
     "name": "stdout",
     "output_type": "stream",
     "text": [
      "Fitting 3 folds for each of 16 candidates, totalling 48 fits\n",
      "[CV] n_estimators=50, learning_rate=1 ................................\n",
      "[CV] n_estimators=50, learning_rate=1 ................................\n",
      "[CV] ................. n_estimators=50, learning_rate=1, total=  18.7s\n",
      "[CV] n_estimators=50, learning_rate=1 ................................\n",
      "[CV] ................. n_estimators=50, learning_rate=1, total=  19.9s\n",
      "[CV] n_estimators=100, learning_rate=1 ...............................\n",
      "[CV] ................. n_estimators=50, learning_rate=1, total=  13.4s\n",
      "[CV] n_estimators=100, learning_rate=1 ...............................\n",
      "[CV] ................ n_estimators=100, learning_rate=1, total=  26.8s\n",
      "[CV] n_estimators=100, learning_rate=1 ...............................\n",
      "[CV] ................ n_estimators=100, learning_rate=1, total=  26.3s\n",
      "[CV] n_estimators=200, learning_rate=1 ...............................\n",
      "[CV] ................ n_estimators=100, learning_rate=1, total=  27.2s\n",
      "[CV] n_estimators=200, learning_rate=1 ...............................\n",
      "[CV] ................ n_estimators=200, learning_rate=1, total=  51.9s\n",
      "[CV] n_estimators=200, learning_rate=1 ...............................\n",
      "[CV] ................ n_estimators=200, learning_rate=1, total=  52.5s\n",
      "[CV] n_estimators=300, learning_rate=1 ...............................\n",
      "[CV] ................ n_estimators=200, learning_rate=1, total=  51.7s\n",
      "[CV] n_estimators=300, learning_rate=1 ...............................\n",
      "[CV] ................ n_estimators=300, learning_rate=1, total= 1.3min\n",
      "[CV] n_estimators=300, learning_rate=1 ...............................\n",
      "[CV] ................ n_estimators=300, learning_rate=1, total= 1.3min\n",
      "[CV] n_estimators=50, learning_rate=2 ................................\n",
      "[CV] ................. n_estimators=50, learning_rate=2, total=  11.5s\n",
      "[CV] n_estimators=50, learning_rate=2 ................................\n",
      "[CV] ................. n_estimators=50, learning_rate=2, total=  11.8s\n",
      "[CV] n_estimators=50, learning_rate=2 ................................\n",
      "[CV] ................. n_estimators=50, learning_rate=2, total=  11.5s\n",
      "[CV] n_estimators=100, learning_rate=2 ...............................\n",
      "[CV] ................ n_estimators=300, learning_rate=1, total= 1.3min\n",
      "[CV] n_estimators=100, learning_rate=2 ...............................\n",
      "[CV] ................ n_estimators=100, learning_rate=2, total=  23.8s\n",
      "[CV] n_estimators=100, learning_rate=2 ...............................\n",
      "[CV] ................ n_estimators=100, learning_rate=2, total=  21.9s\n",
      "[CV] n_estimators=200, learning_rate=2 ...............................\n",
      "[CV] ................ n_estimators=100, learning_rate=2, total=  22.8s\n",
      "[CV] n_estimators=200, learning_rate=2 ...............................\n",
      "[CV] ................ n_estimators=200, learning_rate=2, total=  48.7s\n",
      "[CV] n_estimators=200, learning_rate=2 ...............................\n",
      "[CV] ................ n_estimators=200, learning_rate=2, total=  49.6s\n",
      "[CV] n_estimators=300, learning_rate=2 ...............................\n",
      "[CV] ................ n_estimators=200, learning_rate=2, total=  51.1s\n",
      "[CV] n_estimators=300, learning_rate=2 ...............................\n",
      "[CV] ................ n_estimators=300, learning_rate=2, total= 1.3min\n",
      "[CV] n_estimators=300, learning_rate=2 ...............................\n",
      "[CV] ................ n_estimators=300, learning_rate=2, total= 1.2min\n",
      "[CV] n_estimators=50, learning_rate=0.5 ..............................\n",
      "[CV] ............... n_estimators=50, learning_rate=0.5, total=  12.6s\n",
      "[CV] n_estimators=50, learning_rate=0.5 ..............................\n",
      "[CV] ............... n_estimators=50, learning_rate=0.5, total=  15.6s\n",
      "[CV] n_estimators=50, learning_rate=0.5 ..............................\n",
      "[CV] ............... n_estimators=50, learning_rate=0.5, total=  13.8s\n",
      "[CV] n_estimators=100, learning_rate=0.5 .............................\n",
      "[CV] ................ n_estimators=300, learning_rate=2, total= 1.3min\n",
      "[CV] n_estimators=100, learning_rate=0.5 .............................\n",
      "[CV] .............. n_estimators=100, learning_rate=0.5, total=  27.7s\n",
      "[CV] n_estimators=100, learning_rate=0.5 .............................\n",
      "[CV] .............. n_estimators=100, learning_rate=0.5, total=  28.7s\n",
      "[CV] n_estimators=200, learning_rate=0.5 .............................\n",
      "[CV] .............. n_estimators=100, learning_rate=0.5, total=  31.6s\n",
      "[CV] n_estimators=200, learning_rate=0.5 .............................\n",
      "[CV] .............. n_estimators=200, learning_rate=0.5, total=  52.9s\n",
      "[CV] n_estimators=200, learning_rate=0.5 .............................\n",
      "[CV] .............. n_estimators=200, learning_rate=0.5, total=  49.4s\n",
      "[CV] n_estimators=300, learning_rate=0.5 .............................\n",
      "[CV] .............. n_estimators=200, learning_rate=0.5, total=  50.5s\n",
      "[CV] n_estimators=300, learning_rate=0.5 .............................\n",
      "[CV] .............. n_estimators=300, learning_rate=0.5, total= 1.4min\n",
      "[CV] n_estimators=300, learning_rate=0.5 .............................\n",
      "[CV] .............. n_estimators=300, learning_rate=0.5, total= 1.2min\n",
      "[CV] n_estimators=50, learning_rate=0.1 ..............................\n",
      "[CV] ............... n_estimators=50, learning_rate=0.1, total=  13.5s\n",
      "[CV] n_estimators=50, learning_rate=0.1 ..............................\n",
      "[CV] ............... n_estimators=50, learning_rate=0.1, total=  13.3s\n",
      "[CV] n_estimators=50, learning_rate=0.1 ..............................\n"
     ]
    },
    {
     "name": "stderr",
     "output_type": "stream",
     "text": [
      "[Parallel(n_jobs=2)]: Done  37 tasks      | elapsed: 15.3min\n"
     ]
    },
    {
     "name": "stdout",
     "output_type": "stream",
     "text": [
      "[CV] ............... n_estimators=50, learning_rate=0.1, total=  13.0s\n",
      "[CV] n_estimators=100, learning_rate=0.1 .............................\n",
      "[CV] .............. n_estimators=300, learning_rate=0.5, total= 1.3min\n",
      "[CV] n_estimators=100, learning_rate=0.1 .............................\n",
      "[CV] .............. n_estimators=100, learning_rate=0.1, total=  26.8s\n",
      "[CV] n_estimators=100, learning_rate=0.1 .............................\n",
      "[CV] .............. n_estimators=100, learning_rate=0.1, total=  26.2s\n",
      "[CV] n_estimators=200, learning_rate=0.1 .............................\n",
      "[CV] .............. n_estimators=100, learning_rate=0.1, total=  26.2s\n",
      "[CV] n_estimators=200, learning_rate=0.1 .............................\n",
      "[CV] .............. n_estimators=200, learning_rate=0.1, total=  49.8s\n",
      "[CV] n_estimators=200, learning_rate=0.1 .............................\n",
      "[CV] .............. n_estimators=200, learning_rate=0.1, total=  50.4s\n",
      "[CV] n_estimators=300, learning_rate=0.1 .............................\n",
      "[CV] .............. n_estimators=200, learning_rate=0.1, total=  52.0s\n",
      "[CV] n_estimators=300, learning_rate=0.1 .............................\n",
      "[CV] .............. n_estimators=300, learning_rate=0.1, total= 1.3min\n",
      "[CV] n_estimators=300, learning_rate=0.1 .............................\n",
      "[CV] .............. n_estimators=300, learning_rate=0.1, total= 1.3min\n",
      "[CV] .............. n_estimators=300, learning_rate=0.1, total= 1.2min\n"
     ]
    },
    {
     "name": "stderr",
     "output_type": "stream",
     "text": [
      "[Parallel(n_jobs=2)]: Done  48 out of  48 | elapsed: 20.7min finished\n"
     ]
    },
    {
     "name": "stdout",
     "output_type": "stream",
     "text": [
      "AdaBoostClassifier(algorithm='SAMME.R', base_estimator=None, learning_rate=1,\n",
      "          n_estimators=100, random_state=None)\n",
      "0.386006917599\n",
      "0.919659166691\n"
     ]
    },
    {
     "data": {
      "application/javascript": [
       "$(document).ready(\n",
       "    function() {\n",
       "        function appendUniqueDiv(){\n",
       "            // append a div with our uuid so we can check that it's already\n",
       "            // been sent and avoid duplicates on page reload\n",
       "            var notifiedDiv = document.createElement(\"div\")\n",
       "            notifiedDiv.id = \"c23dd1f9-346c-49a9-ac67-fb595a1da7a8\"\n",
       "            element.append(notifiedDiv)\n",
       "        }\n",
       "\n",
       "        // only send notifications if the pageload is complete; this will\n",
       "        // help stop extra notifications when a saved notebook is loaded,\n",
       "        // which during testing gives us state \"interactive\", not \"complete\"\n",
       "        if (document.readyState === 'complete') {\n",
       "            // check for the div that signifies that the notification\n",
       "            // was already sent\n",
       "            if (document.getElementById(\"c23dd1f9-346c-49a9-ac67-fb595a1da7a8\") === null) {\n",
       "                var notificationPayload = {\"body\": \"Cell execution has finished!\", \"requireInteraction\": false, \"icon\": \"/static/base/images/favicon.ico\"};\n",
       "                if (Notification.permission !== 'denied') {\n",
       "                    if (Notification.permission !== 'granted') { \n",
       "                        Notification.requestPermission(function (permission) {\n",
       "                            if(!('permission' in Notification)) {\n",
       "                                Notification.permission = permission\n",
       "                            }\n",
       "                        })\n",
       "                    }\n",
       "                    if (Notification.permission === 'granted') {\n",
       "                    var notification = new Notification(\"Jupyter Notebook\", notificationPayload)\n",
       "                    appendUniqueDiv()\n",
       "                    notification.onclick = function () {\n",
       "                        window.focus();\n",
       "                        this.close();\n",
       "                        };\n",
       "                    } \n",
       "                }     \n",
       "            }\n",
       "        }\n",
       "    }\n",
       ")\n"
      ],
      "text/plain": [
       "<IPython.core.display.Javascript object>"
      ]
     },
     "metadata": {},
     "output_type": "display_data"
    }
   ],
   "source": [
    "%%notify\n",
    "\n",
    "params = {\n",
    "    'n_estimators' : [50,100,200,300],\n",
    "    'learning_rate' : [1,2,0.5,.1],\n",
    "}\n",
    "\n",
    "clf = GridSearchCV(AdaBoostClassifier(), params, n_jobs=2, verbose=2)\n",
    "clf.fit(X_train, y_train)\n",
    "\n",
    "print (clf.best_estimator_)\n",
    "clf = clf.best_estimator_\n",
    "\n",
    "predict = clf.predict(X_test)\n",
    "\n",
    "# print (f1_score(y_train, clf.predict(X_train),labels=[0,1,2,3,4], average='macro'))\n",
    "# print (accuracy_score(y_train, clf.predict(X_train)))\n",
    "print (f1_score(y_test, clf.predict(X_test), labels=[0,1,2,3,4], average='macro'))\n",
    "print (accuracy_score(y_test, clf.predict(X_test)))"
   ]
  },
  {
   "cell_type": "code",
   "execution_count": 17,
   "metadata": {},
   "outputs": [
    {
     "name": "stdout",
     "output_type": "stream",
     "text": [
      "             precision    recall  f1-score   support\n",
      "\n",
      "          0       0.99      0.92      0.95    625708\n",
      "          1       0.05      0.12      0.08     10619\n",
      "          2       0.84      0.98      0.90    190582\n",
      "          3       0.00      0.00      0.00        42\n",
      "          4       0.00      0.00      0.00       785\n",
      "\n",
      "avg / total       0.94      0.92      0.93    827736\n",
      "\n"
     ]
    }
   ],
   "source": [
    "print classification_report(y_test, predict)"
   ]
  },
  {
   "cell_type": "code",
   "execution_count": 18,
   "metadata": {},
   "outputs": [],
   "source": [
    "from sklearn.neighbors import KNeighborsClassifier"
   ]
  },
  {
   "cell_type": "code",
   "execution_count": 19,
   "metadata": {},
   "outputs": [
    {
     "name": "stdout",
     "output_type": "stream",
     "text": [
      "0.703366208305\n",
      "0.996634944003\n",
      "0.704686407316\n",
      "0.996541167715\n"
     ]
    },
    {
     "data": {
      "application/javascript": [
       "$(document).ready(\n",
       "    function() {\n",
       "        function appendUniqueDiv(){\n",
       "            // append a div with our uuid so we can check that it's already\n",
       "            // been sent and avoid duplicates on page reload\n",
       "            var notifiedDiv = document.createElement(\"div\")\n",
       "            notifiedDiv.id = \"31dc8980-287b-44a6-a42e-5a69fd687c05\"\n",
       "            element.append(notifiedDiv)\n",
       "        }\n",
       "\n",
       "        // only send notifications if the pageload is complete; this will\n",
       "        // help stop extra notifications when a saved notebook is loaded,\n",
       "        // which during testing gives us state \"interactive\", not \"complete\"\n",
       "        if (document.readyState === 'complete') {\n",
       "            // check for the div that signifies that the notification\n",
       "            // was already sent\n",
       "            if (document.getElementById(\"31dc8980-287b-44a6-a42e-5a69fd687c05\") === null) {\n",
       "                var notificationPayload = {\"body\": \"Cell execution has finished!\", \"requireInteraction\": false, \"icon\": \"/static/base/images/favicon.ico\"};\n",
       "                if (Notification.permission !== 'denied') {\n",
       "                    if (Notification.permission !== 'granted') { \n",
       "                        Notification.requestPermission(function (permission) {\n",
       "                            if(!('permission' in Notification)) {\n",
       "                                Notification.permission = permission\n",
       "                            }\n",
       "                        })\n",
       "                    }\n",
       "                    if (Notification.permission === 'granted') {\n",
       "                    var notification = new Notification(\"Jupyter Notebook\", notificationPayload)\n",
       "                    appendUniqueDiv()\n",
       "                    notification.onclick = function () {\n",
       "                        window.focus();\n",
       "                        this.close();\n",
       "                        };\n",
       "                    } \n",
       "                }     \n",
       "            }\n",
       "        }\n",
       "    }\n",
       ")\n"
      ],
      "text/plain": [
       "<IPython.core.display.Javascript object>"
      ]
     },
     "metadata": {},
     "output_type": "display_data"
    }
   ],
   "source": [
    "%%notify\n",
    "\n",
    "clf = KNeighborsClassifier(n_neighbors=len(np.unique(y_train)))\n",
    "clf.fit(X_train[:20000], y_train[:20000])\n",
    "\n",
    "print (f1_score(y_train, clf.predict(X_train),labels=[0,1,2,3,4], average='macro'))\n",
    "print (accuracy_score(y_train, clf.predict(X_train)))\n",
    "\n",
    "predict = clf.predict(X_test)\n",
    "\n",
    "print (f1_score(y_test, clf.predict(X_test), labels=[0,1,2,3,4], average='macro'))\n",
    "print (accuracy_score(y_test, clf.predict(X_test)))"
   ]
  },
  {
   "cell_type": "code",
   "execution_count": 21,
   "metadata": {},
   "outputs": [
    {
     "name": "stdout",
     "output_type": "stream",
     "text": [
      "             precision    recall  f1-score   support\n",
      "\n",
      "          0       1.00      1.00      1.00    625708\n",
      "          1       0.98      0.92      0.95     10619\n",
      "          2       1.00      0.99      1.00    190582\n",
      "          3       0.00      0.00      0.00        42\n",
      "          4       0.77      0.47      0.58       785\n",
      "\n",
      "avg / total       1.00      1.00      1.00    827736\n",
      "\n"
     ]
    }
   ],
   "source": [
    "predict = clf.predict(X_test)\n",
    "print(classification_report(y_test, predict))"
   ]
  }
 ],
 "metadata": {
  "anaconda-cloud": {},
  "kernelspec": {
   "display_name": "Python 2",
   "language": "python",
   "name": "python2"
  },
  "language_info": {
   "codemirror_mode": {
    "name": "ipython",
    "version": 2
   },
   "file_extension": ".py",
   "mimetype": "text/x-python",
   "name": "python",
   "nbconvert_exporter": "python",
   "pygments_lexer": "ipython2",
   "version": "2.7.12"
  }
 },
 "nbformat": 4,
 "nbformat_minor": 2
}
