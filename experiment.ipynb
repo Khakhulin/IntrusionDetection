{
 "cells": [
  {
   "cell_type": "code",
   "execution_count": 1,
   "metadata": {},
   "outputs": [],
   "source": [
    "from EDA_preprocessing import preprocess_data\n",
    "from sklearn.metrics import f1_score, classification_report\n",
    "\n",
    "corrected = \"./data/corrected\"\n",
    "kddcup_data = \"./data/kddcup.data\"\n",
    "\n",
    "kddcup_data_10_percent_corrected = \"./data/kddcup.data_10_percent_corrected\"\n",
    "kddcup_newtestdata_10_percent_unlabeled = \"./data/kddcup.newtestdata_10_percent_unlabeled\"\n",
    "\n",
    "kddcup_testdata_unlabeled = \"./data/kddcup.testdata.unlabeled\"\n",
    "kddcup_testdata_unlabeled_10_percent = \"./data/kddcup.testdata.unlabeled_10_percent\"\n",
    "\n",
    "correspondence = \"./data/training_attack_types.txt\""
   ]
  },
  {
   "cell_type": "code",
   "execution_count": 2,
   "metadata": {
    "scrolled": true
   },
   "outputs": [
    {
     "name": "stderr",
     "output_type": "stream",
     "text": [
      "/home/kopoden/anaconda2/envs/py3dm/lib/python3.6/site-packages/pandas/core/indexing.py:517: SettingWithCopyWarning: \n",
      "A value is trying to be set on a copy of a slice from a DataFrame.\n",
      "Try using .loc[row_indexer,col_indexer] = value instead\n",
      "\n",
      "See the caveats in the documentation: http://pandas.pydata.org/pandas-docs/stable/indexing.html#indexing-view-versus-copy\n",
      "  self.obj[item] = s\n"
     ]
    }
   ],
   "source": [
    "X_train, y_train, X_test, y_test = preprocess_data(kddcup_data,\n",
    "                                                   kddcup_testdata_unlabeled_10_percent,\n",
    "                                                   \"./data/headers\",\n",
    "                                                   \"./data/training_attack_types.txt\")"
   ]
  },
  {
   "cell_type": "code",
   "execution_count": 3,
   "metadata": {},
   "outputs": [],
   "source": [
    "X_train_matrix = X_test.as_matrix()\n",
    "X_test_matrix = X_train.as_matrix()"
   ]
  },
  {
   "cell_type": "code",
   "execution_count": 6,
   "metadata": {},
   "outputs": [],
   "source": [
    "y_train_vector = y_test.as_matrix()\n",
    "y_test_vector = y_train.as_matrix()"
   ]
  },
  {
   "cell_type": "markdown",
   "metadata": {},
   "source": [
    "# Model 1"
   ]
  },
  {
   "cell_type": "code",
   "execution_count": 7,
   "metadata": {},
   "outputs": [
    {
     "name": "stderr",
     "output_type": "stream",
     "text": [
      "Using TensorFlow backend.\n"
     ]
    }
   ],
   "source": [
    "import numpy as np\n",
    "from keras.models import Sequential\n",
    "from keras.layers import Dense\n",
    "from keras.layers import Dropout\n",
    "from keras import optimizers\n",
    "from keras import losses\n",
    "\n",
    "batch_size = 5000\n",
    "epochs = 25\n",
    "learning_rate = 0.001\n",
    "\n",
    "model1 = Sequential()\n",
    "model1.add(Dense(64, input_shape=(1, X_train_matrix.shape[1])))\n",
    "model1.add(Dense(128))\n",
    "model1.add(Dropout(0.7))\n",
    "model1.add(Dense(5, activation='softmax'))"
   ]
  },
  {
   "cell_type": "code",
   "execution_count": 8,
   "metadata": {},
   "outputs": [],
   "source": [
    "y_train_1 = (np.arange(5) == y_train_vector[:,None]).astype(np.int).reshape(-1, 1, 5)\n",
    "y_test_1 = (np.arange(5) == y_test_vector[:,None]).astype(np.int).reshape(-1, 1, 5)"
   ]
  },
  {
   "cell_type": "code",
   "execution_count": 9,
   "metadata": {},
   "outputs": [],
   "source": [
    "from custom_metrics import f1\n",
    "\n",
    "adam = optimizers.Adam(lr=learning_rate)\n",
    "sgd  = optimizers.SGD(lr=learning_rate)\n",
    "model1.compile(loss=losses.mean_squared_error,\n",
    "               optimizer=adam,\n",
    "               metrics=['accuracy', f1])"
   ]
  },
  {
   "cell_type": "code",
   "execution_count": 10,
   "metadata": {},
   "outputs": [
    {
     "name": "stdout",
     "output_type": "stream",
     "text": [
      "Train on 247247 samples, validate on 827736 samples\n",
      "Epoch 1/25\n",
      "247247/247247 [==============================] - 5s - loss: 0.0320 - acc: 0.9097 - f1: 0.8542 - val_loss: 0.0069 - val_acc: 0.9813 - val_f1: 0.9813\n",
      "Epoch 2/25\n",
      "247247/247247 [==============================] - 3s - loss: 0.0071 - acc: 0.9818 - f1: 0.9818 - val_loss: 0.0063 - val_acc: 0.9826 - val_f1: 0.9826\n",
      "Epoch 3/25\n",
      "247247/247247 [==============================] - 3s - loss: 0.0064 - acc: 0.9829 - f1: 0.9831 - val_loss: 0.0060 - val_acc: 0.9836 - val_f1: 0.9837\n",
      "Epoch 4/25\n",
      "247247/247247 [==============================] - 3s - loss: 0.0060 - acc: 0.9835 - f1: 0.9838 - val_loss: 0.0054 - val_acc: 0.9837 - val_f1: 0.9843\n",
      "Epoch 5/25\n",
      "247247/247247 [==============================] - 3s - loss: 0.0051 - acc: 0.9863 - f1: 0.9865 - val_loss: 0.0042 - val_acc: 0.9884 - val_f1: 0.9884\n",
      "Epoch 6/25\n",
      "247247/247247 [==============================] - 3s - loss: 0.0043 - acc: 0.9891 - f1: 0.9890 - val_loss: 0.0040 - val_acc: 0.9896 - val_f1: 0.9896\n",
      "Epoch 7/25\n",
      "247247/247247 [==============================] - 3s - loss: 0.0041 - acc: 0.9897 - f1: 0.9897 - val_loss: 0.0038 - val_acc: 0.9899 - val_f1: 0.9899\n",
      "Epoch 8/25\n",
      "247247/247247 [==============================] - 3s - loss: 0.0039 - acc: 0.9900 - f1: 0.9900 - val_loss: 0.0038 - val_acc: 0.9901 - val_f1: 0.9900\n",
      "Epoch 9/25\n",
      "247247/247247 [==============================] - 3s - loss: 0.0039 - acc: 0.9902 - f1: 0.9901 - val_loss: 0.0038 - val_acc: 0.9902 - val_f1: 0.9902\n",
      "Epoch 10/25\n",
      "247247/247247 [==============================] - 3s - loss: 0.0038 - acc: 0.9902 - f1: 0.9902 - val_loss: 0.0037 - val_acc: 0.9904 - val_f1: 0.9903\n",
      "Epoch 11/25\n",
      "247247/247247 [==============================] - 3s - loss: 0.0037 - acc: 0.9904 - f1: 0.9904 - val_loss: 0.0037 - val_acc: 0.9905 - val_f1: 0.9904\n",
      "Epoch 12/25\n",
      "247247/247247 [==============================] - 3s - loss: 0.0037 - acc: 0.9905 - f1: 0.9905 - val_loss: 0.0036 - val_acc: 0.9905 - val_f1: 0.9905\n",
      "Epoch 13/25\n",
      "247247/247247 [==============================] - 3s - loss: 0.0035 - acc: 0.9907 - f1: 0.9906 - val_loss: 0.0028 - val_acc: 0.9920 - val_f1: 0.9919\n",
      "Epoch 14/25\n",
      "247247/247247 [==============================] - 3s - loss: 0.0026 - acc: 0.9930 - f1: 0.9929 - val_loss: 0.0024 - val_acc: 0.9935 - val_f1: 0.9935\n",
      "Epoch 15/25\n",
      "247247/247247 [==============================] - 3s - loss: 0.0024 - acc: 0.9935 - f1: 0.9935 - val_loss: 0.0023 - val_acc: 0.9938 - val_f1: 0.9937\n",
      "Epoch 16/25\n",
      "247247/247247 [==============================] - 3s - loss: 0.0023 - acc: 0.9938 - f1: 0.9937 - val_loss: 0.0023 - val_acc: 0.9939 - val_f1: 0.9939\n",
      "Epoch 17/25\n",
      "247247/247247 [==============================] - 3s - loss: 0.0023 - acc: 0.9939 - f1: 0.9939 - val_loss: 0.0022 - val_acc: 0.9940 - val_f1: 0.9940\n",
      "Epoch 18/25\n",
      "247247/247247 [==============================] - 3s - loss: 0.0022 - acc: 0.9941 - f1: 0.9941 - val_loss: 0.0022 - val_acc: 0.9941 - val_f1: 0.9941\n",
      "Epoch 19/25\n",
      "247247/247247 [==============================] - 3s - loss: 0.0022 - acc: 0.9942 - f1: 0.9942 - val_loss: 0.0021 - val_acc: 0.9942 - val_f1: 0.9942\n",
      "Epoch 20/25\n",
      "247247/247247 [==============================] - 3s - loss: 0.0021 - acc: 0.9943 - f1: 0.9944 - val_loss: 0.0021 - val_acc: 0.9943 - val_f1: 0.9943\n",
      "Epoch 21/25\n",
      "247247/247247 [==============================] - 3s - loss: 0.0021 - acc: 0.9944 - f1: 0.9944 - val_loss: 0.0021 - val_acc: 0.9943 - val_f1: 0.9943\n",
      "Epoch 22/25\n",
      "247247/247247 [==============================] - 3s - loss: 0.0021 - acc: 0.9943 - f1: 0.9944 - val_loss: 0.0021 - val_acc: 0.9943 - val_f1: 0.9944\n",
      "Epoch 23/25\n",
      "247247/247247 [==============================] - 3s - loss: 0.0021 - acc: 0.9944 - f1: 0.9944 - val_loss: 0.0021 - val_acc: 0.9944 - val_f1: 0.9944\n",
      "Epoch 24/25\n",
      "247247/247247 [==============================] - 3s - loss: 0.0020 - acc: 0.9946 - f1: 0.9946 - val_loss: 0.0021 - val_acc: 0.9944 - val_f1: 0.9945\n",
      "Epoch 25/25\n",
      "247247/247247 [==============================] - 3s - loss: 0.0020 - acc: 0.9946 - f1: 0.9946 - val_loss: 0.0020 - val_acc: 0.9945 - val_f1: 0.9945\n"
     ]
    }
   ],
   "source": [
    "history = model1.fit(np.reshape(X_train_matrix, (-1, 1, 37)), y_train_1, batch_size=batch_size,\n",
    "                    validation_data=(np.reshape(X_test_matrix, (-1, 1, 37)), y_test_1), epochs=epochs)#, verbose=False)"
   ]
  },
  {
   "cell_type": "code",
   "execution_count": 11,
   "metadata": {
    "scrolled": true
   },
   "outputs": [
    {
     "name": "stdout",
     "output_type": "stream",
     "text": [
      "             precision    recall  f1-score   support\n",
      "\n",
      "     normal     0.9940    0.9991    0.9966    625708\n",
      "       prop     0.9484    0.8002    0.8680     10619\n",
      "        dos     0.9980    0.9943    0.9962    190582\n",
      "        u2r     0.0000    0.0000    0.0000        42\n",
      "        r2l     0.0000    0.0000    0.0000       785\n",
      "\n",
      "avg / total     0.9934    0.9945    0.9938    827736\n",
      "\n"
     ]
    },
    {
     "name": "stderr",
     "output_type": "stream",
     "text": [
      "/home/kopoden/anaconda2/envs/py3dm/lib/python3.6/site-packages/sklearn/metrics/classification.py:1135: UndefinedMetricWarning: Precision and F-score are ill-defined and being set to 0.0 in labels with no predicted samples.\n",
      "  'precision', 'predicted', average, warn_for)\n"
     ]
    }
   ],
   "source": [
    "y_pred = model1.predict(X_test_matrix.reshape(-1, 1, 37), batch_size=batch_size)\n",
    "target_names = ['normal','prop','dos','u2r','r2l']\n",
    "y_pred = np.argmax(y_pred, axis=2)\n",
    "print(classification_report(y_test_vector, y_pred, target_names=target_names, digits=4))"
   ]
  },
  {
   "cell_type": "code",
   "execution_count": 51,
   "metadata": {},
   "outputs": [
    {
     "name": "stderr",
     "output_type": "stream",
     "text": [
      "/home/kopoden/anaconda2/envs/py3dm/lib/python3.6/site-packages/matplotlib/font_manager.py:273: UserWarning: Matplotlib is building the font cache using fc-list. This may take a moment.\n",
      "  warnings.warn('Matplotlib is building the font cache using fc-list. This may take a moment.')\n",
      "/home/kopoden/anaconda2/envs/py3dm/lib/python3.6/site-packages/matplotlib/font_manager.py:273: UserWarning: Matplotlib is building the font cache using fc-list. This may take a moment.\n",
      "  warnings.warn('Matplotlib is building the font cache using fc-list. This may take a moment.')\n"
     ]
    },
    {
     "data": {
      "image/png": "[encoded data removed]",
      "text/plain": [
       "<matplotlib.figure.Figure at 0x7f40d0ac3da0>"
      ]
     },
     "metadata": {},
     "output_type": "display_data"
    }
   ],
   "source": [
    "import matplotlib.pyplot as plt\n",
    "# summarize history for accuracy\n",
    "plt.plot(history.history['acc'])\n",
    "plt.plot(history.history['val_acc'])\n",
    "plt.title('model accuracy')\n",
    "plt.ylabel('accuracy')\n",
    "plt.xlabel('epoch')\n",
    "plt.legend(['train', 'test'], loc='upper left')\n",
    "plt.show()"
   ]
  },
  {
   "cell_type": "code",
   "execution_count": 52,
   "metadata": {},
   "outputs": [
    {
     "data": {
      "image/png": "[encoded data removed]",
      "text/plain": [
       "<matplotlib.figure.Figure at 0x7f40c3cbef28>"
      ]
     },
     "metadata": {},
     "output_type": "display_data"
    }
   ],
   "source": [
    "import matplotlib.pyplot as plt\n",
    "# summarize history for f1\n",
    "plt.plot(history.history['f1'])\n",
    "plt.plot(history.history['val_f1'])\n",
    "plt.title('model f1')\n",
    "plt.ylabel('f1')\n",
    "plt.xlabel('epoch')\n",
    "plt.legend(['train', 'test'], loc='upper left')\n",
    "plt.show()"
   ]
  },
  {
   "cell_type": "code",
   "execution_count": 53,
   "metadata": {},
   "outputs": [
    {
     "data": {
      "image/png": "[encoded data removed]",
      "text/plain": [
       "<matplotlib.figure.Figure at 0x7f40c3b5c5f8>"
      ]
     },
     "metadata": {},
     "output_type": "display_data"
    }
   ],
   "source": [
    "# summarize history for loss\n",
    "plt.plot(history.history['loss'])\n",
    "plt.plot(history.history['val_loss'])\n",
    "plt.title('model loss')\n",
    "plt.ylabel('loss')\n",
    "plt.xlabel('epoch')\n",
    "plt.legend(['train', 'test'], loc='upper left')\n",
    "plt.show()"
   ]
  },
  {
   "cell_type": "markdown",
   "metadata": {},
   "source": [
    "# Model 2. Cat boost"
   ]
  },
  {
   "cell_type": "code",
   "execution_count": 14,
   "metadata": {},
   "outputs": [],
   "source": [
    "import numpy as np\n",
    "from catboost import CatBoostClassifier, CatboostIpythonWidget\n",
    "# specify the training parameters \n",
    "model = CatBoostClassifier(iterations=50, depth=10, learning_rate=1,\n",
    "                           loss_function='MultiClass', calc_feature_importance=True)\n",
    "#train the model\n",
    "#model.fit(X_train_matrix, y_train_vector, cat_features=[], verbose=True)\n",
    "model.fit(X_train_matrix, y_train_vector, eval_set=(X_test_matrix, y_test_vector))\n",
    "# make the prediction using the resulting model\n",
    "preds_class = model.predict(X_test_matrix)\n",
    "preds_proba = model.predict_proba(X_test_matrix)"
   ]
  },
  {
   "cell_type": "code",
   "execution_count": 15,
   "metadata": {},
   "outputs": [
    {
     "name": "stdout",
     "output_type": "stream",
     "text": [
      "             precision    recall  f1-score   support\n",
      "\n",
      "     normal     0.9992    0.9997    0.9994    625708\n",
      "       prop     0.9854    0.9942    0.9898     10619\n",
      "        dos     0.9998    0.9997    0.9998    190582\n",
      "        u2r     0.8889    0.1905    0.3137        42\n",
      "        r2l     0.9506    0.5146    0.6678       785\n",
      "\n",
      "avg / total     0.9991    0.9991    0.9990    827736\n",
      "\n"
     ]
    }
   ],
   "source": [
    "target_names = ['normal','prop','dos','u2r','r2l']\n",
    "print(classification_report(y_test_vector, preds_class, target_names=target_names, digits=4))"
   ]
  },
  {
   "cell_type": "code",
   "execution_count": 26,
   "metadata": {},
   "outputs": [
    {
     "data": {
      "text/plain": [
       "<module 'scorer' from '/home/kopoden/Desktop/network_malware_detection/scorer.py'>"
      ]
     },
     "execution_count": 26,
     "metadata": {},
     "output_type": "execute_result"
    }
   ],
   "source": [
    "import importlib\n",
    "importlib.reload(scorer)"
   ]
  },
  {
   "cell_type": "code",
   "execution_count": 27,
   "metadata": {},
   "outputs": [
    {
     "ename": "NameError",
     "evalue": "name 'precision_recall_fscore_support' is not defined",
     "output_type": "error",
     "traceback": [
      "\u001b[0;31m---------------------------------------------------------------------------\u001b[0m",
      "\u001b[0;31mNameError\u001b[0m                                 Traceback (most recent call last)",
      "\u001b[0;32m<ipython-input-27-32b35d109ea1>\u001b[0m in \u001b[0;36m<module>\u001b[0;34m()\u001b[0m\n\u001b[1;32m      1\u001b[0m \u001b[0;32mimport\u001b[0m \u001b[0mscorer\u001b[0m\u001b[0;34m\u001b[0m\u001b[0m\n\u001b[0;32m----> 2\u001b[0;31m \u001b[0mprint\u001b[0m\u001b[0;34m(\u001b[0m\u001b[0mscorer\u001b[0m\u001b[0;34m.\u001b[0m\u001b[0mclassification_report\u001b[0m\u001b[0;34m(\u001b[0m\u001b[0my_test_vector\u001b[0m\u001b[0;34m,\u001b[0m \u001b[0mpreds_class\u001b[0m\u001b[0;34m,\u001b[0m \u001b[0mtarget_names\u001b[0m\u001b[0;34m=\u001b[0m\u001b[0mtarget_names\u001b[0m\u001b[0;34m,\u001b[0m \u001b[0mdigits\u001b[0m\u001b[0;34m=\u001b[0m\u001b[0;36m4\u001b[0m\u001b[0;34m)\u001b[0m\u001b[0;34m)\u001b[0m\u001b[0;34m\u001b[0m\u001b[0m\n\u001b[0m",
      "\u001b[0;32m~/Desktop/network_malware_detection/scorer.py\u001b[0m in \u001b[0;36mclassification_report\u001b[0;34m(y_true, y_pred, labels, target_names, sample_weight, digits)\u001b[0m\n\u001b[1;32m     30\u001b[0m     \u001b[0mreport\u001b[0m \u001b[0;34m+=\u001b[0m \u001b[0;34mu'\\n\\n'\u001b[0m\u001b[0;34m\u001b[0m\u001b[0m\n\u001b[1;32m     31\u001b[0m \u001b[0;34m\u001b[0m\u001b[0m\n\u001b[0;32m---> 32\u001b[0;31m     p, r, f1, s = precision_recall_fscore_support(y_true, y_pred,\n\u001b[0m\u001b[1;32m     33\u001b[0m                                                   \u001b[0mlabels\u001b[0m\u001b[0;34m=\u001b[0m\u001b[0mlabels\u001b[0m\u001b[0;34m,\u001b[0m\u001b[0;34m\u001b[0m\u001b[0m\n\u001b[1;32m     34\u001b[0m                                                   \u001b[0maverage\u001b[0m\u001b[0;34m=\u001b[0m\u001b[0;32mNone\u001b[0m\u001b[0;34m,\u001b[0m\u001b[0;34m\u001b[0m\u001b[0m\n",
      "\u001b[0;31mNameError\u001b[0m: name 'precision_recall_fscore_support' is not defined"
     ]
    }
   ],
   "source": [
    "import scorer\n",
    "print(scorer.classification_report(y_test_vector, preds_class, target_names=target_names, digits=4))"
   ]
  },
  {
   "cell_type": "code",
   "execution_count": null,
   "metadata": {},
   "outputs": [],
   "source": []
  }
 ],
 "metadata": {
  "kernelspec": {
   "display_name": "Python3(dm)",
   "language": "python",
   "name": "py3dm"
  },
  "language_info": {
   "codemirror_mode": {
    "name": "ipython",
    "version": 3
   },
   "file_extension": ".py",
   "mimetype": "text/x-python",
   "name": "python",
   "nbconvert_exporter": "python",
   "pygments_lexer": "ipython3",
   "version": "3.6.2"
  }
 },
 "nbformat": 4,
 "nbformat_minor": 2
}
