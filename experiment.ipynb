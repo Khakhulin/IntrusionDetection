{
 "cells": [
  {
   "cell_type": "code",
   "execution_count": 1,
   "metadata": {
    "collapsed": true
   },
   "outputs": [],
   "source": [
    "from EDA_preprocessing import preprocess_data\n",
    "\n",
    "corrected = \"./data/corrected\"\n",
    "kddcup_data = \"./data/kddcup.data\"\n",
    "\n",
    "kddcup_data_10_percent_corrected = \"./data/kddcup.data_10_percent_corrected\"\n",
    "kddcup_newtestdata_10_percent_unlabeled = \"./data/kddcup.newtestdata_10_percent_unlabeled\"\n",
    "\n",
    "kddcup_testdata_unlabeled = \"./data/kddcup.testdata.unlabeled\"\n",
    "kddcup_testdata_unlabeled_10_percent = \"./data/kddcup.testdata.unlabeled_10_percent\"\n",
    "\n",
    "correspondence = \"./data/training_attack_types.txt\""
   ]
  },
  {
   "cell_type": "code",
   "execution_count": 2,
   "metadata": {
    "scrolled": true
   },
   "outputs": [
    {
     "name": "stderr",
     "output_type": "stream",
     "text": [
      "C:\\Users\\kopoden\\Anaconda2\\envs\\tensorflow\\lib\\site-packages\\pandas\\core\\indexing.py:517: SettingWithCopyWarning: \n",
      "A value is trying to be set on a copy of a slice from a DataFrame.\n",
      "Try using .loc[row_indexer,col_indexer] = value instead\n",
      "\n",
      "See the caveats in the documentation: http://pandas.pydata.org/pandas-docs/stable/indexing.html#indexing-view-versus-copy\n",
      "  self.obj[item] = s\n"
     ]
    }
   ],
   "source": [
    "X_train, y_train, X_test, y_test = preprocess_data(kddcup_data,\n",
    "                                                   kddcup_testdata_unlabeled_10_percent,\n",
    "                                                   \"./data/headers\",\n",
    "                                                   \"./data/training_attack_types.txt\")"
   ]
  },
  {
   "cell_type": "code",
   "execution_count": 3,
   "metadata": {
    "collapsed": true
   },
   "outputs": [],
   "source": [
    "X_train_matrix = X_train.as_matrix()\n",
    "X_test_matrix = X_test.as_matrix()"
   ]
  },
  {
   "cell_type": "code",
   "execution_count": 4,
   "metadata": {},
   "outputs": [],
   "source": [
    "y_train_vector = y_train.as_matrix()\n",
    "y_test_vector = y_test.as_matrix()"
   ]
  },
  {
   "cell_type": "markdown",
   "metadata": {},
   "source": [
    "# Model 1"
   ]
  },
  {
   "cell_type": "code",
   "execution_count": 170,
   "metadata": {},
   "outputs": [],
   "source": [
    "import numpy as np\n",
    "from keras.models import Sequential\n",
    "from keras.layers import Dense\n",
    "from keras.layers import Dropout\n",
    "from keras import optimizers\n",
    "from keras import losses\n",
    "\n",
    "batch_size = 5000\n",
    "epochs = 25\n",
    "learning_rate = 0.001\n",
    "\n",
    "model = Sequential()\n",
    "model.add(Dense(64, input_shape=(1, X_train_matrix.shape[1])))\n",
    "model.add(Dense(128))\n",
    "model.add(Dropout(0.7))\n",
    "model.add(Dense(5, activation='softmax'))"
   ]
  },
  {
   "cell_type": "code",
   "execution_count": 171,
   "metadata": {
    "collapsed": true
   },
   "outputs": [],
   "source": [
    "y_train_1 = (np.arange(5) == y_train_vector[:,None]).astype(np.int).reshape(-1, 1, 5)\n",
    "y_test_1 = (np.arange(5) == y_test_vector[:,None]).astype(np.int).reshape(-1, 1, 5)"
   ]
  },
  {
   "cell_type": "code",
   "execution_count": 172,
   "metadata": {},
   "outputs": [
    {
     "data": {
      "text/plain": [
       "(827736, 1, 5)"
      ]
     },
     "execution_count": 172,
     "metadata": {},
     "output_type": "execute_result"
    }
   ],
   "source": [
    "y_train_1.shape"
   ]
  },
  {
   "cell_type": "code",
   "execution_count": 173,
   "metadata": {},
   "outputs": [],
   "source": [
    "from keras import backend as K\n",
    "K.set_epsilon(1e-5)\n",
    "\n",
    "def f1(y_true, y_pred):\n",
    "    \n",
    "    def recall(y_true, y_pred):\n",
    "        \"\"\"Recall metric.\n",
    "\n",
    "        Only computes a batch-wise average of recall.\n",
    "\n",
    "        Computes the recall, a metric for multi-label classification of\n",
    "        how many relevant items are selected.\n",
    "        \"\"\"\n",
    "        true_positives = K.sum(K.round(K.clip(y_true * y_pred, 0, 1)))\n",
    "        possible_positives = K.sum(K.round(K.clip(y_true, 0, 1)))\n",
    "        recall = true_positives / (possible_positives + K.epsilon())\n",
    "        return recall\n",
    "\n",
    "    def precision(y_true, y_pred):\n",
    "        \"\"\"Precision metric.\n",
    "\n",
    "        Only computes a batch-wise average of precision.\n",
    "\n",
    "        Computes the precision, a metric for multi-label classification of\n",
    "        how many selected items are relevant.\n",
    "        \"\"\"\n",
    "        true_positives = K.sum(K.round(K.clip(y_true * y_pred, 0, 1)))\n",
    "        predicted_positives = K.sum(K.round(K.clip(y_pred, 0, 1)))\n",
    "        precision = true_positives / (predicted_positives + K.epsilon())\n",
    "        return precision\n",
    "    \n",
    "    precision = precision(y_true, y_pred)\n",
    "    recall = recall(y_true, y_pred)\n",
    "    \n",
    "    return 2*((precision*recall)/(precision+recall))\n",
    "\n",
    "adam = optimizers.Adam(lr=learning_rate)\n",
    "sgd  = optimizers.SGD(lr=learning_rate)\n",
    "model.compile(loss=losses.mean_squared_error,\n",
    "              optimizer=adam,\n",
    "              metrics=['accuracy', f1])"
   ]
  },
  {
   "cell_type": "code",
   "execution_count": 174,
   "metadata": {},
   "outputs": [
    {
     "name": "stdout",
     "output_type": "stream",
     "text": [
      "Train on 827736 samples, validate on 247247 samples\n",
      "Epoch 1/25\n",
      "827736/827736 [==============================] - 5s - loss: 0.0152 - acc: 0.9538 - f1: 0.9388 - val_loss: 0.0058 - val_acc: 0.9831 - val_f1: 0.9832\n",
      "Epoch 2/25\n",
      "827736/827736 [==============================] - 3s - loss: 0.0046 - acc: 0.9881 - f1: 0.9882 - val_loss: 0.0038 - val_acc: 0.9900 - val_f1: 0.9900\n",
      "Epoch 3/25\n",
      "827736/827736 [==============================] - 3s - loss: 0.0039 - acc: 0.9899 - f1: 0.9899 - val_loss: 0.0037 - val_acc: 0.9904 - val_f1: 0.9904\n",
      "Epoch 4/25\n",
      "827736/827736 [==============================] - 3s - loss: 0.0038 - acc: 0.9903 - f1: 0.9902 - val_loss: 0.0036 - val_acc: 0.9907 - val_f1: 0.9907\n",
      "Epoch 5/25\n",
      "827736/827736 [==============================] - 4s - loss: 0.0037 - acc: 0.9905 - f1: 0.9905 - val_loss: 0.0035 - val_acc: 0.9909 - val_f1: 0.9909\n",
      "Epoch 6/25\n",
      "827736/827736 [==============================] - 3s - loss: 0.0036 - acc: 0.9907 - f1: 0.9907 - val_loss: 0.0035 - val_acc: 0.9908 - val_f1: 0.9908\n",
      "Epoch 7/25\n",
      "827736/827736 [==============================] - 4s - loss: 0.0035 - acc: 0.9909 - f1: 0.9909 - val_loss: 0.0035 - val_acc: 0.9909 - val_f1: 0.9908\n",
      "Epoch 8/25\n",
      "827736/827736 [==============================] - 4s - loss: 0.0031 - acc: 0.9919 - f1: 0.9919 - val_loss: 0.0022 - val_acc: 0.9939 - val_f1: 0.9939\n",
      "Epoch 9/25\n",
      "827736/827736 [==============================] - 4s - loss: 0.0022 - acc: 0.9942 - f1: 0.9942 - val_loss: 0.0022 - val_acc: 0.9940 - val_f1: 0.9941\n",
      "Epoch 10/25\n",
      "827736/827736 [==============================] - 4s - loss: 0.0021 - acc: 0.9944 - f1: 0.9944 - val_loss: 0.0021 - val_acc: 0.9941 - val_f1: 0.9941\n",
      "Epoch 11/25\n",
      "827736/827736 [==============================] - 4s - loss: 0.0020 - acc: 0.9946 - f1: 0.9946 - val_loss: 0.0021 - val_acc: 0.9942 - val_f1: 0.9943\n",
      "Epoch 12/25\n",
      "827736/827736 [==============================] - 4s - loss: 0.0020 - acc: 0.9947 - f1: 0.9947 - val_loss: 0.0020 - val_acc: 0.9946 - val_f1: 0.9946\n",
      "Epoch 13/25\n",
      "827736/827736 [==============================] - 4s - loss: 0.0020 - acc: 0.9948 - f1: 0.9948 - val_loss: 0.0021 - val_acc: 0.9941 - val_f1: 0.9942\n",
      "Epoch 14/25\n",
      "827736/827736 [==============================] - 3s - loss: 0.0019 - acc: 0.9949 - f1: 0.9949 - val_loss: 0.0020 - val_acc: 0.9944 - val_f1: 0.9944\n",
      "Epoch 15/25\n",
      "827736/827736 [==============================] - 3s - loss: 0.0019 - acc: 0.9949 - f1: 0.9949 - val_loss: 0.0021 - val_acc: 0.9942 - val_f1: 0.9941\n",
      "Epoch 16/25\n",
      "827736/827736 [==============================] - 3s - loss: 0.0019 - acc: 0.9949 - f1: 0.9950 - val_loss: 0.0021 - val_acc: 0.9942 - val_f1: 0.9942\n",
      "Epoch 17/25\n",
      "827736/827736 [==============================] - 3s - loss: 0.0019 - acc: 0.9950 - f1: 0.9950 - val_loss: 0.0021 - val_acc: 0.9943 - val_f1: 0.9943\n",
      "Epoch 18/25\n",
      "827736/827736 [==============================] - 3s - loss: 0.0019 - acc: 0.9951 - f1: 0.9951 - val_loss: 0.0020 - val_acc: 0.9946 - val_f1: 0.9946\n",
      "Epoch 19/25\n",
      "827736/827736 [==============================] - 3s - loss: 0.0019 - acc: 0.9951 - f1: 0.9951 - val_loss: 0.0020 - val_acc: 0.9945 - val_f1: 0.9945\n",
      "Epoch 20/25\n",
      "827736/827736 [==============================] - 4s - loss: 0.0019 - acc: 0.9952 - f1: 0.9951 - val_loss: 0.0021 - val_acc: 0.9944 - val_f1: 0.9944\n",
      "Epoch 21/25\n",
      "827736/827736 [==============================] - 4s - loss: 0.0019 - acc: 0.9951 - f1: 0.9951 - val_loss: 0.0021 - val_acc: 0.9944 - val_f1: 0.9944\n",
      "Epoch 22/25\n",
      "827736/827736 [==============================] - 4s - loss: 0.0018 - acc: 0.9952 - f1: 0.9952 - val_loss: 0.0020 - val_acc: 0.9947 - val_f1: 0.9947\n",
      "Epoch 23/25\n",
      "827736/827736 [==============================] - 4s - loss: 0.0018 - acc: 0.9952 - f1: 0.9952 - val_loss: 0.0020 - val_acc: 0.9946 - val_f1: 0.9946\n",
      "Epoch 24/25\n",
      "827736/827736 [==============================] - 4s - loss: 0.0018 - acc: 0.9952 - f1: 0.9952 - val_loss: 0.0021 - val_acc: 0.9946 - val_f1: 0.9946\n",
      "Epoch 25/25\n",
      "827736/827736 [==============================] - 4s - loss: 0.0018 - acc: 0.9952 - f1: 0.9952 - val_loss: 0.0020 - val_acc: 0.9946 - val_f1: 0.9946\n"
     ]
    }
   ],
   "source": [
    "history = model.fit(np.reshape(X_train_matrix, (-1, 1, 37)), y_train_1, batch_size=batch_size,\n",
    "                    validation_data=(np.reshape(X_test_matrix, (-1, 1, 37)), y_test_1), epochs=epochs)#, verbose=False)"
   ]
  },
  {
   "cell_type": "code",
   "execution_count": 175,
   "metadata": {
    "scrolled": true
   },
   "outputs": [
    {
     "name": "stdout",
     "output_type": "stream",
     "text": [
      "dict_keys(['val_loss', 'val_acc', 'val_f1', 'loss', 'acc', 'f1'])\n"
     ]
    }
   ],
   "source": [
    "print(history.history.keys())"
   ]
  },
  {
   "cell_type": "code",
   "execution_count": 176,
   "metadata": {},
   "outputs": [
    {
     "data": {
      "image/png": "[encoded data removed]",
      "text/plain": [
       "<matplotlib.figure.Figure at 0x2aefcf55748>"
      ]
     },
     "metadata": {},
     "output_type": "display_data"
    }
   ],
   "source": [
    "import matplotlib.pyplot as plt\n",
    "# summarize history for accuracy\n",
    "plt.plot(history.history['acc'])\n",
    "plt.plot(history.history['val_acc'])\n",
    "plt.title('model accuracy')\n",
    "plt.ylabel('accuracy')\n",
    "plt.xlabel('epoch')\n",
    "plt.legend(['train', 'test'], loc='upper left')\n",
    "plt.show()"
   ]
  },
  {
   "cell_type": "code",
   "execution_count": 177,
   "metadata": {},
   "outputs": [
    {
     "data": {
      "image/png": "[encoded data removed]",
      "text/plain": [
       "<matplotlib.figure.Figure at 0x2aefcf55320>"
      ]
     },
     "metadata": {},
     "output_type": "display_data"
    }
   ],
   "source": [
    "import matplotlib.pyplot as plt\n",
    "# summarize history for f1\n",
    "plt.plot(history.history['f1'])\n",
    "plt.plot(history.history['val_f1'])\n",
    "plt.title('model f1')\n",
    "plt.ylabel('f1')\n",
    "plt.xlabel('epoch')\n",
    "plt.legend(['train', 'test'], loc='upper left')\n",
    "plt.show()"
   ]
  },
  {
   "cell_type": "code",
   "execution_count": 178,
   "metadata": {},
   "outputs": [
    {
     "data": {
      "image/png": "[encoded data removed]",
      "text/plain": [
       "<matplotlib.figure.Figure at 0x2aeff131780>"
      ]
     },
     "metadata": {},
     "output_type": "display_data"
    }
   ],
   "source": [
    "# summarize history for loss\n",
    "plt.plot(history.history['loss'])\n",
    "plt.plot(history.history['val_loss'])\n",
    "plt.title('model loss')\n",
    "plt.ylabel('loss')\n",
    "plt.xlabel('epoch')\n",
    "plt.legend(['train', 'test'], loc='upper left')\n",
    "plt.show()"
   ]
  },
  {
   "cell_type": "markdown",
   "metadata": {},
   "source": [
    "# Model 2. "
   ]
  }
 ],
 "metadata": {
  "kernelspec": {
   "display_name": "tensorflow",
   "language": "python",
   "name": "tensorflow"
  },
  "language_info": {
   "codemirror_mode": {
    "name": "ipython",
    "version": 3
   },
   "file_extension": ".py",
   "mimetype": "text/x-python",
   "name": "python",
   "nbconvert_exporter": "python",
   "pygments_lexer": "ipython3",
   "version": "3.6.2"
  }
 },
 "nbformat": 4,
 "nbformat_minor": 2
}
