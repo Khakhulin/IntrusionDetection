{
 "cells": [
  {
   "cell_type": "code",
   "execution_count": 1,
   "metadata": {},
   "outputs": [],
   "source": [
    "from EDA_preprocessing import preprocess_data\n",
    "\n",
    "corrected = \"./data/corrected\"\n",
    "kddcup_data = \"./data/kddcup.data\"\n",
    "\n",
    "kddcup_data_10_percent_corrected = \"./data/kddcup.data_10_percent_corrected\"\n",
    "kddcup_newtestdata_10_percent_unlabeled = \"./data/kddcup.newtestdata_10_percent_unlabeled\"\n",
    "\n",
    "kddcup_testdata_unlabeled = \"./data/kddcup.testdata.unlabeled\"\n",
    "kddcup_testdata_unlabeled_10_percent = \"./data/kddcup.testdata.unlabeled_10_percent\"\n",
    "\n",
    "correspondence = \"./data/training_attack_types.txt\""
   ]
  },
  {
   "cell_type": "code",
   "execution_count": 2,
   "metadata": {
    "scrolled": true
   },
   "outputs": [
    {
     "name": "stderr",
     "output_type": "stream",
     "text": [
      "C:\\Users\\kopoden\\Anaconda2\\envs\\tensorflow\\lib\\site-packages\\pandas\\core\\indexing.py:517: SettingWithCopyWarning: \n",
      "A value is trying to be set on a copy of a slice from a DataFrame.\n",
      "Try using .loc[row_indexer,col_indexer] = value instead\n",
      "\n",
      "See the caveats in the documentation: http://pandas.pydata.org/pandas-docs/stable/indexing.html#indexing-view-versus-copy\n",
      "  self.obj[item] = s\n"
     ]
    }
   ],
   "source": [
    "X_train, y_train, X_test, y_test = preprocess_data(kddcup_data,\n",
    "                                                   kddcup_testdata_unlabeled_10_percent,\n",
    "                                                   \"./data/headers\",\n",
    "                                                   \"./data/training_attack_types.txt\")"
   ]
  },
  {
   "cell_type": "code",
   "execution_count": 3,
   "metadata": {},
   "outputs": [],
   "source": [
    "X_train_matrix = X_train.as_matrix()\n",
    "X_test_matrix = X_test.as_matrix()"
   ]
  },
  {
   "cell_type": "code",
   "execution_count": 15,
   "metadata": {},
   "outputs": [
    {
     "data": {
      "text/plain": [
       "(array([0, 0, 0, ..., 0, 0, 0], dtype=int64),\n",
       " array([0, 0, 2, ..., 0, 2, 2], dtype=int64))"
      ]
     },
     "execution_count": 15,
     "metadata": {},
     "output_type": "execute_result"
    }
   ],
   "source": [
    "y_train_vector = y_train.as_matrix()\n",
    "y_test_vector = y_test.as_matrix()"
   ]
  },
  {
   "cell_type": "markdown",
   "metadata": {},
   "source": [
    "# Model 1. Multilayer neural network."
   ]
  },
  {
   "cell_type": "code",
   "execution_count": 28,
   "metadata": {},
   "outputs": [],
   "source": [
    "import numpy as np\n",
    "from keras.models import Sequential\n",
    "from keras.layers import Dense\n",
    "from keras import optimizers\n",
    "from keras import losses\n",
    "\n",
    "batch_size = 500\n",
    "epochs = 10\n",
    "learning_rate = 0.001\n",
    "\n",
    "model = Sequential()\n",
    "model.add(Dense(64, input_shape=(1, X_train_matrix.shape[1])))\n",
    "model.add(Dense(32))\n",
    "model.add(Dense(5, activation='softmax'))"
   ]
  },
  {
   "cell_type": "code",
   "execution_count": 21,
   "metadata": {},
   "outputs": [],
   "source": [
    "y_train_1 = (np.arange(5) == y_train_vector[:,None]).astype(np.int).reshape(-1, 1, 5)\n",
    "y_test_1 = (np.arange(5) == y_test_vector[:,None]).astype(np.int).reshape(-1, 1, 5)"
   ]
  },
  {
   "cell_type": "code",
   "execution_count": 22,
   "metadata": {},
   "outputs": [
    {
     "data": {
      "text/plain": [
       "(827736, 1, 5)"
      ]
     },
     "execution_count": 22,
     "metadata": {},
     "output_type": "execute_result"
    }
   ],
   "source": [
    "y_train_1.shape"
   ]
  },
  {
   "cell_type": "code",
   "execution_count": 29,
   "metadata": {},
   "outputs": [
    {
     "name": "stdout",
     "output_type": "stream",
     "text": [
      "Epoch 1/10\n",
      "827736/827736 [==============================] - 9s - loss: 0.1505 - acc: 0.3493     \n",
      "Epoch 2/10\n",
      "827736/827736 [==============================] - 8s - loss: 0.0624 - acc: 0.7717     \n",
      "Epoch 3/10\n",
      "827736/827736 [==============================] - 8s - loss: 0.0390 - acc: 0.9241     \n",
      "Epoch 4/10\n",
      "827736/827736 [==============================] - 8s - loss: 0.0273 - acc: 0.9804     \n",
      "Epoch 5/10\n",
      "827736/827736 [==============================] - 9s - loss: 0.0202 - acc: 0.9810     \n",
      "Epoch 6/10\n",
      "827736/827736 [==============================] - 9s - loss: 0.0162 - acc: 0.9810     \n",
      "Epoch 7/10\n",
      "827736/827736 [==============================] - 9s - loss: 0.0138 - acc: 0.9810     \n",
      "Epoch 8/10\n",
      "827736/827736 [==============================] - 8s - loss: 0.0124 - acc: 0.9810     \n",
      "Epoch 9/10\n",
      "827736/827736 [==============================] - 8s - loss: 0.0114 - acc: 0.9810     \n",
      "Epoch 10/10\n",
      "827736/827736 [==============================] - 9s - loss: 0.0107 - acc: 0.9809     \n",
      "247216/247247 [============================>.] - ETA: 0s"
     ]
    }
   ],
   "source": [
    "adam = optimizers.Adam(lr=learning_rate)\n",
    "sgd  = optimizers.SGD(lr=learning_rate)\n",
    "model.compile(loss=losses.mean_squared_error,\n",
    "              optimizer=sgd,\n",
    "              metrics=['accuracy'])\n",
    "\n",
    "model.fit(np.reshape(X_train_matrix, (-1, 1, 37)), y_train_1, batch_size=batch_size, epochs=epochs)\n",
    "score = model.evaluate(X_test_matrix.reshape(-1, 1, 37), y_test_1, batch_size=16)"
   ]
  },
  {
   "cell_type": "code",
   "execution_count": 30,
   "metadata": {},
   "outputs": [
    {
     "name": "stdout",
     "output_type": "stream",
     "text": [
      "[0.010390829159523421, 0.98093809024983114]\n"
     ]
    }
   ],
   "source": [
    "print(score)"
   ]
  },
  {
   "cell_type": "code",
   "execution_count": null,
   "metadata": {
    "collapsed": true
   },
   "outputs": [],
   "source": []
  }
 ],
 "metadata": {
  "kernelspec": {
   "display_name": "tensorflow",
   "language": "python",
   "name": "tensorflow"
  },
  "language_info": {
   "codemirror_mode": {
    "name": "ipython",
    "version": 3
   },
   "file_extension": ".py",
   "mimetype": "text/x-python",
   "name": "python",
   "nbconvert_exporter": "python",
   "pygments_lexer": "ipython3",
   "version": "3.6.2"
  }
 },
 "nbformat": 4,
 "nbformat_minor": 2
}
