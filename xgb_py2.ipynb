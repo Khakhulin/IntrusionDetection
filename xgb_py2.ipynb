{
 "cells": [
  {
   "cell_type": "code",
   "execution_count": 1,
   "metadata": {},
   "outputs": [],
   "source": [
    "import pandas as pd\n",
    "\n",
    "X_train = pd.read_csv('X_train.csv', header=0, index_col=0)\n",
    "X_test = pd.read_csv(\"X_test.csv\", header=0, index_col=0)\n",
    "y_test = pd.Series.from_csv(\"y_test.csv\", header=None, index_col=0)\n",
    "y_train = pd.Series.from_csv('y_train.csv', header=None, index_col=0)"
   ]
  },
  {
   "cell_type": "code",
   "execution_count": 2,
   "metadata": {},
   "outputs": [
    {
     "name": "stderr",
     "output_type": "stream",
     "text": [
      "/home/kopoden/anaconda2/envs/py3dm/lib/python3.6/site-packages/sklearn/cross_validation.py:41: DeprecationWarning: This module was deprecated in version 0.18 in favor of the model_selection module into which all the refactored classes and functions are moved. Also note that the interface of the new CV iterators are different from that of this module. This module will be removed in 0.20.\n",
      "  \"This module will be removed in 0.20.\", DeprecationWarning)\n"
     ]
    }
   ],
   "source": [
    "from xgboost import XGBClassifier\n",
    "from sklearn.model_selection import GridSearchCV\n",
    "from sklearn.metrics import make_scorer\n",
    "from sklearn.metrics import f1_score, accuracy_score"
   ]
  },
  {
   "cell_type": "code",
   "execution_count": 3,
   "metadata": {},
   "outputs": [],
   "source": [
    "f1 = make_scorer(f1_score, 'macro')"
   ]
  },
  {
   "cell_type": "code",
   "execution_count": 4,
   "metadata": {},
   "outputs": [
    {
     "name": "stdout",
     "output_type": "stream",
     "text": [
      "XGBClassifier(base_score=0.5, colsample_bylevel=1, colsample_bytree=1,\n",
      "       gamma=0, learning_rate=0.05, max_delta_step=0, max_depth=10,\n",
      "       min_child_weight=1, missing=None, n_estimators=150, nthread=-1,\n",
      "       objective='multi:softprob', reg_alpha=0, reg_lambda=2,\n",
      "       scale_pos_weight=1, seed=0, silent=True, subsample=1)\n"
     ]
    },
    {
     "name": "stderr",
     "output_type": "stream",
     "text": [
      "/home/kopoden/anaconda2/envs/py3dm/lib/python3.6/site-packages/sklearn/metrics/classification.py:1135: UndefinedMetricWarning: F-score is ill-defined and being set to 0.0 in labels with no predicted samples.\n",
      "  'precision', 'predicted', average, warn_for)\n"
     ]
    },
    {
     "name": "stdout",
     "output_type": "stream",
     "text": [
      "0.571944558193\n",
      "0.99332033402\n",
      "0.572012661964\n",
      "0.993439758622\n"
     ]
    }
   ],
   "source": [
    "params = {\n",
    "    'max_depth' : [3,10],\n",
    "    'learning_rate' : [0.001,0.01,.05,.1],\n",
    "    'n_estimators' : [50,100,150,300],\n",
    "    'gamma' : [0,0.1,.2,.01],\n",
    "    'reg_lambda' : [1,2,.5,.1]\n",
    "}\n",
    "\n",
    "clf = GridSearchCV(XGBClassifier(), params)\n",
    "clf.fit(X_train[:1000], y_train[:1000])\n",
    "\n",
    "print (clf.best_estimator_)\n",
    "clf = clf.best_estimator_\n",
    "\n",
    "print (f1_score(y_train, clf.predict(X_train),labels=[0,1,2,3,4], average='macro'))\n",
    "print (accuracy_score(y_train, clf.predict(X_train)))\n",
    "print (f1_score(y_test, clf.predict(X_test), labels=[0,1,2,3,4], average='macro'))\n",
    "print (accuracy_score(y_test, clf.predict(X_test)))"
   ]
  },
  {
   "cell_type": "code",
   "execution_count": null,
   "metadata": {
    "collapsed": true
   },
   "outputs": [],
   "source": []
  }
 ],
 "metadata": {
  "anaconda-cloud": {},
  "kernelspec": {
   "display_name": "Python3(dm)",
   "language": "python",
   "name": "py3dm"
  },
  "language_info": {
   "codemirror_mode": {
    "name": "ipython",
    "version": 3
   },
   "file_extension": ".py",
   "mimetype": "text/x-python",
   "name": "python",
   "nbconvert_exporter": "python",
   "pygments_lexer": "ipython3",
   "version": "3.6.2"
  }
 },
 "nbformat": 4,
 "nbformat_minor": 2
}
