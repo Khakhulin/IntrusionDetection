{
 "cells": [
  {
   "cell_type": "code",
   "execution_count": null,
   "metadata": {
    "collapsed": true
   },
   "outputs": [],
   "source": [
    "import pandas as pd\n",
    "\n",
    "X_train = pd.read_csv('X_train.csv', header=0, index_col=0)\n",
    "X_test = pd.read_csv(\"X_test.csv\", header=0, index_col=0)\n",
    "y_test = pd.Series.from_csv(\"y_test.csv\", header=None, index_col=0)\n",
    "y_train = pd.Series.from_csv('y_train.csv', header=None, index_col=0)"
   ]
  },
  {
   "cell_type": "code",
   "execution_count": null,
   "metadata": {
    "collapsed": true
   },
   "outputs": [],
   "source": [
    "from xgboost import XGBClassifier\n",
    "from sklearn.model_selection import GridSearchCV\n",
    "from sklearn.metrics import make_scorer\n",
    "from sklearn.metrics import f1_score, accuracy_score"
   ]
  },
  {
   "cell_type": "code",
   "execution_count": null,
   "metadata": {
    "collapsed": true
   },
   "outputs": [],
   "source": [
    "f1 = make_scorer(f1_score, 'macro')"
   ]
  },
  {
   "cell_type": "code",
   "execution_count": null,
   "metadata": {
    "collapsed": true
   },
   "outputs": [],
   "source": [
    "params = {\n",
    "    'max_depth' : [3,5,10],\n",
    "    'learning_rate' : [0.001,0.01,.05,.1,.2],\n",
    "    'n_estimators' : [50,100,150,200,300],\n",
    "    'gamma' : [0,0.1,.2,.01],\n",
    "    'reg_lambda' : [1,2,3,.5,.1]\n",
    "}\n",
    "\n",
    "clf = GridSearchCV(XGBClassifier(), params)\n",
    "clf.fit(X_train[:1000], y_train[:1000])\n",
    "\n",
    "print (clf.best_estimator_)\n",
    "clf = clf.best_estimator_\n",
    "\n",
    "print (f1_score(y_train, clf.predict(X_train),labels=[0,1,2,3,4], average='macro'))\n",
    "print (accuracy_score(y_train, clf.predict(X_train)))\n",
    "print (f1_score(y_test, clf.predict(X_test), labels=[0,1,2,3,4], average='macro'))\n",
    "print (accuracy_score(y_test, clf.predict(X_test)))"
   ]
  },
  {
   "cell_type": "code",
   "execution_count": null,
   "metadata": {
    "collapsed": true
   },
   "outputs": [],
   "source": []
  }
 ],
 "metadata": {
  "anaconda-cloud": {},
  "kernelspec": {
   "display_name": "Python [conda root]",
   "language": "python",
   "name": "conda-root-py"
  },
  "language_info": {
   "codemirror_mode": {
    "name": "ipython",
    "version": 2
   },
   "file_extension": ".py",
   "mimetype": "text/x-python",
   "name": "python",
   "nbconvert_exporter": "python",
   "pygments_lexer": "ipython2",
   "version": "2.7.12"
  }
 },
 "nbformat": 4,
 "nbformat_minor": 2
}
